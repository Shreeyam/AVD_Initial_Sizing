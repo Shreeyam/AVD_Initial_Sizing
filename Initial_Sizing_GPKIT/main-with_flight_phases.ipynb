{
 "cells": [
  {
   "cell_type": "code",
   "execution_count": 1,
   "metadata": {},
   "outputs": [],
   "source": [
    "\"\"\"Modular aircraft concept\"\"\"\n",
    "import pickle\n",
    "import numpy as np\n",
    "from gpkit import Model, Variable, Vectorize\n",
    "from gpkit.constraints.tight import Tight\n",
    "from gpkit.constraints.loose import Loose\n",
    "from gpkit.constraints.bounded import Bounded\n",
    "\n",
    "from gpkit import ureg as u\n",
    "\n",
    "from aircraft import *\n",
    "\n",
    "from prettytable import PrettyTable"
   ]
  },
  {
   "cell_type": "code",
   "execution_count": 2,
   "metadata": {},
   "outputs": [],
   "source": [
    "class SimpleAircraft(Model):\n",
    "    \n",
    "    def setup(self):\n",
    "        \n",
    "        constraints = []\n",
    "        components  = []\n",
    "        \n",
    "        W_0       = self.W_0       = Variable('W_0', \"N\", \"Weight (force) of aircraft\")\n",
    "        W_payload = self.W_payload = Variable('W_{payload}', \"N\", \"Weight (force) of payload + crew\")\n",
    "        W_empty   = self.W_empty   = Variable('W_{empty}', \"N\", \"Weight (force) of empty aircraft\")\n",
    "        #W_fuel    = self.W_fuel    = Variable('W_{fuel}', \"N\", \"Weight (force) of fuel\")\n",
    "        W_dry     = self.W_dry     = Variable('W_{dry}', \"N\", \"Weight (force) of dry aircraft (payload + empty)\")\n",
    "        \n",
    "        M_0       = self.M_0       = Variable('M_0', \"kg\", \"Mass of aircraft\")\n",
    "        M_payload = self.M_payload = Variable('M_{payload}', \"kg\", \"Mass of payload + crew\")\n",
    "        M_empty   = self.M_empty   = Variable('M_{empty}', \"kg\", \"Mass of empty aircraft\")\n",
    "        #M_fuel    = self.M_fuel    = Variable(\"M_{fuel}\", \"kg\", \"Mass of fuel\")\n",
    "        M_dry     = self.M_dry     = Variable(\"M_{dry}\", \"kg\", \"Mass of dry aircraft (payload + empty)\")\n",
    "        \n",
    "        g_0 = self.g_0 = Variable(\"g_0\", 9.81, \"m/s^2\", \"Acceleration due to gravity\")\n",
    "\n",
    "        #constraints += [Tight([W_0 >= W_dry + W_fuel])]\n",
    "        constraints += [Tight([W_dry >= W_payload + W_empty])]\n",
    "\n",
    "        constraints += [Tight([W_0 == M_0*g_0])]\n",
    "        constraints += [Tight([W_dry == M_dry*g_0])]\n",
    "        #constraints += [Tight([W_fuel == M_fuel*g_0])]\n",
    "        constraints += [Tight([W_payload == M_payload*g_0])]\n",
    "        constraints += [Tight([W_empty == M_empty*g_0])]\n",
    "        \n",
    "        #payload mass estimate\n",
    "        N_crew = self.N_crew = Variable(\"N_{crew}\", 4., \"\", \"number of crew\")\n",
    "        N_passengers = self.N_passengers = Variable(\"N_{passengers}\", 50., \"\", \"number of passengers\")\n",
    "        M_per_person = Variable(\"M_{per passenger}\", 100., \"kg\", \"mass per passenger\") # todo: get real number, currently arbitrary\n",
    "        \n",
    "        constraints += [M_payload >= M_per_person*(N_crew + N_passengers)] # todo: refine this mass estimate\n",
    "        #constraints += [M_payload >= 9500*u.kg] # todo: refine this mass estimate\n",
    "        #todo this 9500 comes from CRJ500 -> using 54*100 is far smaller!!\n",
    "\n",
    "        \n",
    "        # empty weight fraction\n",
    "        fit_A =  0.97 #Using Table 3.1 of Raymer, Jet transport\n",
    "        fit_C = -0.06 #Using Table 3.1 of Raymer, Jet transport\n",
    "        fit_K_vs = 1.00 # assumes fixed sweep\n",
    "        constraints += [Tight([M_empty/M_0 >= fit_A*(M_0/(1.*u.kg))**fit_C*fit_K_vs])]\n",
    "                    \n",
    "        M_1 = Variable(\"M_1\", \"kg\", \"Mass at 1\")\n",
    "        M_2 = Variable(\"M_2\", \"kg\", \"Mass at 2\")\n",
    "        M_3 = Variable(\"M_3\", \"kg\", \"Mass at 3\")\n",
    "        M_4 = Variable(\"M_4\", \"kg\", \"Mass at 4\")\n",
    "        M_5 = Variable(\"M_5\", \"kg\", \"Mass at 5\")\n",
    "        M_6 = Variable(\"M_6\", \"kg\", \"Mass at 6\")\n",
    "        M_7 = Variable(\"M_7\", \"kg\", \"Mass at 7\")\n",
    "        M_8 = Variable(\"M_8\", \"kg\", \"Mass at 8\")\n",
    "        M_9 = Variable(\"M_9\", \"kg\", \"Mass at 9\")\n",
    "        #M_dry for the last position (without the ullage)\n",
    "        \n",
    "        # standard fuel fraction constraints:\n",
    "        #warmup and takeoff: 0.970\n",
    "        #climb: 0.985\n",
    "        #landing: 0.995\n",
    "        constraints += [M_1/M_0 <= 0.97]\n",
    "        constraints += [M_2/M_1 <= 0.985]\n",
    "        #constraints += [M_3/M_2 >= ]     #cruise to target\n",
    "        constraints += [M_4/M_3 <= 0.995]\n",
    "        constraints += [M_5/M_4 <= 0.985]\n",
    "        #constraints += [M_6/M_7 >= ]     #cruise to alt\n",
    "        #constraints += [M_7/M_6 >= 0.99] #loiter\n",
    "        constraints += [M_8/M_7 <= 0.995] # Raymer eq.6.22\n",
    "        constraints += [M_9/M_8 <= 0.995]\n",
    "        constraints += [M_9 >= M_dry*1.06] #tank ullage constraint\n",
    "        \n",
    "        #constraints += [M_0 >= M_dry + M_fuel]\n",
    "\n",
    "        \n",
    "\n",
    "        \n",
    "        # main cruise range equation\n",
    "        R_cruise = self.R_cruise = Variable(\"R_{cruise}\", 2000., \"km\", \"Main range of aircraft\")\n",
    "        V_cruise = self.V_cruise = Variable(\"V_{cruise}\", \"m/s\", \"Cruise speed of aircraft\")\n",
    "        Ma_cruise = self.Ma_cruise = Variable(\"Ma_{cruise}\", 0.75, \"\", \"Cruise mach number\")\n",
    "        h_cruise  = self.h_cruise = Variable(\"h_{cruise}\", 35000., \"ft\", \"Cruise altitude\")\n",
    "        a_cruise = Variable(\"a_{cruise}\", 295.2, \"m/s\", \"Speed of sound at 36,089 ft\") #https://www.engineeringtoolbox.com/elevation-speed-sound-air-d_1534.html\n",
    "        \n",
    "        LD_max = Variable(\"LD_{max}\", \"\", \"L/D max\") #todo: eyeballed from Raymer Fig 3.5. Need to incorporate better approx\n",
    "        \n",
    "        S_wet_S_ref = Variable(\"S_{wet}/S_{ref}\", 6., \"\", \"S wet to S ref ratio\") # eyeballed from Raymer Fig. 3.6\n",
    "        AR = Variable(\"AR\", 8., \"\", \"Aspect ratio, main\") #todo: arbitrary\n",
    "        \n",
    "        K_LD = Variable(\"K_LD\", 15.5, \"\", \"Coefficient for estimating max lift to drag\")\n",
    "        constraints += [Tight([LD_max <= K_LD*(AR/(S_wet_S_ref))])]\n",
    "        \n",
    "        SFC_cruise = self.SFC_cruise = Variable(\"SFC_{cruise}\", 19.8, \"mg/N/s\", \"Specific Fuel Consumption, Cruise\") #Table 3.3 of Raymer, for Low bypass Turbofan\n",
    "        \n",
    "        z1 = Variable(\"z1\", \"\", \"Dummy variable for range eqn1\")\n",
    "        constraints += [z1 >= R_cruise*SFC_cruise*g_0/(V_cruise*(0.866*LD_max))]\n",
    "        constraints += [M_2/M_3 >= 1 + z1 + z1**2/2 + z1**3/6 + z1**4/24]\n",
    "        \n",
    "        \n",
    "        # alt cruise range equation\n",
    "        R_alt = self.R_alt = Variable(\"R_{alt}\", 370., \"km\", \"Alt range of aircraft\")\n",
    "        V_alt = self.V_alt = Variable(\"V_{alt}\", \"m/s\", \"Alt speed of aircraft for alternative\")\n",
    "        Ma_alt = self.Ma_alt = Variable(\"Ma_{alt}\",\"\", \"Alt mach number\")\n",
    "        h_alt  = self.h_alt = Variable(\"h_{alt}\", \"ft\", \"Alt cruise altitude\")\n",
    "        a_alt = Variable(\"a_{alt}\",295.2, \"m/s\", \"Speed of sound at alt ft\") #https://www.engineeringtoolbox.com/elevation-speed-sound-air-d_1534.html\n",
    "        \n",
    "        z2 = Variable(\"z2\", \"\", \"Dummy variable for range eqn 2\")\n",
    "        constraints += [z2 >= R_alt*SFC_cruise*g_0/(V_alt*(0.866*LD_max))]\n",
    "        constraints += [M_5/M_6 >= 1 + z2 + z2**2/2 + z2**3/6 + z2**4/24]\n",
    "\n",
    "        \n",
    "        constraints += [Tight([V_cruise <= Ma_cruise*a_cruise])]\n",
    "        constraints += [Tight([V_alt <= Ma_alt*a_alt])]\n",
    "        constraints += [Ma_alt <= 0.8]\n",
    "\n",
    "        \n",
    "        #loiter\n",
    "        t_loiter = self.t_loiter = Variable(\"t_{loiter}\", 45, \"min\", \"loiter endurance\")\n",
    "        \n",
    "        LD_max = Variable(\"LD_{max}\", \"\", \"L/D max\") #todo: eyeballed from Raymer Fig 3.5. Need to incorporate better approx\n",
    "        \n",
    "        S_wet_S_ref = Variable(\"S_{wet}/S_{ref}\", 6., \"\", \"S wet to S ref ratio\") # eyeballed from Raymer Fig. 3.6\n",
    "        AR = Variable(\"AR\", 8., \"\", \"Aspect ratio, main\") #todo: arbitrary\n",
    "        \n",
    "        K_LD = Variable(\"K_LD\", 15.5, \"\", \"Coefficient for estimating max lift to drag\")\n",
    "        constraints += [Tight([LD_max <= K_LD*(AR/(S_wet_S_ref))])]\n",
    "        \n",
    "        SFC_cruise = self.SFC_cruise = Variable(\"SFC_{cruise}\", 19.8, \"mg/N/s\", \"Specific Fuel Consumption, Cruise\") #Table 3.3 of Raymer, for Low bypass Turbofan\n",
    "        \n",
    "        z3 = Variable(\"z3\", \"\", \"Dummy variable for loitter eqn\")\n",
    "        constraints += [z3 >= t_loiter*SFC_cruise*g_0/(LD_max)]\n",
    "        constraints += [M_6/M_7 >= 1 + z3 + z3**2/2 + z3**3/6 + z3**4/24]\n",
    "        \n",
    "        \n",
    "        \n",
    "        return constraints, components\n",
    "            \n",
    "        \n",
    "        "
   ]
  },
  {
   "cell_type": "code",
   "execution_count": null,
   "metadata": {},
   "outputs": [],
   "source": []
  },
  {
   "cell_type": "code",
   "execution_count": 3,
   "metadata": {
    "scrolled": false
   },
   "outputs": [
    {
     "data": {
      "text/latex": [
       "$$\\begin{array}{ll} \\text{}\n",
       "\\text{minimize}\n",
       "    & {W_0}_{SimpleAircraft} \\\\\n",
       "\\text{subject to}\n",
       "    & {W_{dry}}_{SimpleAircraft} \\geq {W_{empty}}_{SimpleAircraft} + {W_{payload}}_{SimpleAircraft} \\\\\n",
       "    & {W_0}_{SimpleAircraft} = {M_0}_{SimpleAircraft} {g_0}_{SimpleAircraft} \\\\\n",
       "    & {W_{dry}}_{SimpleAircraft} = {M_{dry}}_{SimpleAircraft} {g_0}_{SimpleAircraft} \\\\\n",
       "    & {W_{payload}}_{SimpleAircraft} = {M_{payload}}_{SimpleAircraft} {g_0}_{SimpleAircraft} \\\\\n",
       "    & {W_{empty}}_{SimpleAircraft} = {M_{empty}}_{SimpleAircraft} {g_0}_{SimpleAircraft} \\\\\n",
       "    & {M_{payload}}_{SimpleAircraft} \\geq {M_{per passenger}}_{SimpleAircraft} {N_{crew}}_{SimpleAircraft} + {M_{per passenger}}_{SimpleAircraft} {N_{passengers}}_{SimpleAircraft} \\\\\n",
       "    & \\frac{{M_{empty}}_{SimpleAircraft}}{{M_0}_{SimpleAircraft}} \\geq \\frac{0.97}{{M_0}_{SimpleAircraft}^{0.06}} \\\\\n",
       "    & \\frac{{M_1}_{SimpleAircraft}}{{M_0}_{SimpleAircraft}} \\leq 0.97 \\\\\n",
       "    & \\frac{{M_2}_{SimpleAircraft}}{{M_1}_{SimpleAircraft}} \\leq 0.985 \\\\\n",
       "    & \\frac{{M_4}_{SimpleAircraft}}{{M_3}_{SimpleAircraft}} \\leq 0.995 \\\\\n",
       "    & \\frac{{M_5}_{SimpleAircraft}}{{M_4}_{SimpleAircraft}} \\leq 0.985 \\\\\n",
       "    & \\frac{{M_8}_{SimpleAircraft}}{{M_7}_{SimpleAircraft}} \\leq 0.995 \\\\\n",
       "    & \\frac{{M_9}_{SimpleAircraft}}{{M_8}_{SimpleAircraft}} \\leq 0.995 \\\\\n",
       "    & {M_9}_{SimpleAircraft} \\geq 1.06{M_{dry}}_{SimpleAircraft} \\\\\n",
       "    & {LD_{max}}_{SimpleAircraft} \\leq \\frac{{AR}_{SimpleAircraft} {K_LD}_{SimpleAircraft}}{{S_{wet}/S_{ref}}_{SimpleAircraft}} \\\\\n",
       "    & {z1}_{SimpleAircraft} \\geq 0.001155\\frac{{R_{cruise}}_{SimpleAircraft} {SFC_{cruise}}_{SimpleAircraft} {g_0}_{SimpleAircraft}}{{LD_{max}}_{SimpleAircraft} {V_{cruise}}_{SimpleAircraft}} \\\\\n",
       "    & \\frac{{M_2}_{SimpleAircraft}}{{M_3}_{SimpleAircraft}} \\geq 0.04167{z1}_{SimpleAircraft}^{4} + 0.1667{z1}_{SimpleAircraft}^{3} + 0.5{z1}_{SimpleAircraft}^{2} + 1 + {z1}_{SimpleAircraft} \\\\\n",
       "    & {z2}_{SimpleAircraft} \\geq 0.001155\\frac{{R_{alt}}_{SimpleAircraft} {SFC_{cruise}}_{SimpleAircraft} {g_0}_{SimpleAircraft}}{{LD_{max}}_{SimpleAircraft} {V_{alt}}_{SimpleAircraft}} \\\\\n",
       "    & \\frac{{M_5}_{SimpleAircraft}}{{M_6}_{SimpleAircraft}} \\geq 0.04167{z2}_{SimpleAircraft}^{4} + 0.1667{z2}_{SimpleAircraft}^{3} + 0.5{z2}_{SimpleAircraft}^{2} + 1 + {z2}_{SimpleAircraft} \\\\\n",
       "    & {V_{cruise}}_{SimpleAircraft} \\leq {Ma_{cruise}}_{SimpleAircraft} {a_{cruise}}_{SimpleAircraft} \\\\\n",
       "    & {V_{alt}}_{SimpleAircraft} \\leq {Ma_{alt}}_{SimpleAircraft} {a_{alt}}_{SimpleAircraft} \\\\\n",
       "    & {Ma_{alt}}_{SimpleAircraft} \\leq 0.8 \\\\\n",
       "    & {LD_{max}}_{SimpleAircraft} \\leq \\frac{{AR}_{SimpleAircraft} {K_LD}_{SimpleAircraft}}{{S_{wet}/S_{ref}}_{SimpleAircraft}} \\\\\n",
       "    & {z3}_{SimpleAircraft} \\geq 6 \\times 10^{-5}\\frac{{SFC_{cruise}}_{SimpleAircraft} {g_0}_{SimpleAircraft} {t_{loiter}}_{SimpleAircraft}}{{LD_{max}}_{SimpleAircraft}} \\\\\n",
       "    & \\frac{{M_6}_{SimpleAircraft}}{{M_7}_{SimpleAircraft}} \\geq 0.04167{z3}_{SimpleAircraft}^{4} + 0.1667{z3}_{SimpleAircraft}^{3} + 0.5{z3}_{SimpleAircraft}^{2} + 1 + {z3}_{SimpleAircraft} \\\\\n",
       "    &  \\\\\n",
       "    & {M_0}_{SimpleAircraft} \\leq 1 \\times 10^{30} \\\\\n",
       "    & {M_0}_{SimpleAircraft} \\geq 1 \\times 10^{-30} \\\\\n",
       "    & {M_{dry}}_{SimpleAircraft} \\leq 1 \\times 10^{30} \\\\\n",
       "    & {M_{dry}}_{SimpleAircraft} \\geq 1 \\times 10^{-30} \\\\\n",
       "    & {W_{dry}}_{SimpleAircraft} \\leq 1 \\times 10^{30} \\\\\n",
       "    & {W_{dry}}_{SimpleAircraft} \\geq 1 \\times 10^{-30} \\\\\n",
       "    & {M_7}_{SimpleAircraft} \\leq 1 \\times 10^{30} \\\\\n",
       "    & {M_7}_{SimpleAircraft} \\geq 1 \\times 10^{-30} \\\\\n",
       "    & {W_0}_{SimpleAircraft} \\leq 1 \\times 10^{30} \\\\\n",
       "    & {W_0}_{SimpleAircraft} \\geq 1 \\times 10^{-30} \\\\\n",
       "    & {M_6}_{SimpleAircraft} \\leq 1 \\times 10^{30} \\\\\n",
       "    & {M_6}_{SimpleAircraft} \\geq 1 \\times 10^{-30} \\\\\n",
       "    & {M_9}_{SimpleAircraft} \\leq 1 \\times 10^{30} \\\\\n",
       "    & {M_9}_{SimpleAircraft} \\geq 1 \\times 10^{-30} \\\\\n",
       "    & {z3}_{SimpleAircraft} \\leq 1 \\times 10^{30} \\\\\n",
       "    & {z3}_{SimpleAircraft} \\geq 1 \\times 10^{-30} \\\\\n",
       "    & {M_4}_{SimpleAircraft} \\leq 1 \\times 10^{30} \\\\\n",
       "    & {M_4}_{SimpleAircraft} \\geq 1 \\times 10^{-30} \\\\\n",
       "    & {z2}_{SimpleAircraft} \\leq 1 \\times 10^{30} \\\\\n",
       "    & {z2}_{SimpleAircraft} \\geq 1 \\times 10^{-30} \\\\\n",
       "    & {M_2}_{SimpleAircraft} \\leq 1 \\times 10^{30} \\\\\n",
       "    & {M_2}_{SimpleAircraft} \\geq 1 \\times 10^{-30} \\\\\n",
       "    & {W_{payload}}_{SimpleAircraft} \\leq 1 \\times 10^{30} \\\\\n",
       "    & {W_{payload}}_{SimpleAircraft} \\geq 1 \\times 10^{-30} \\\\\n",
       "    & {W_{empty}}_{SimpleAircraft} \\leq 1 \\times 10^{30} \\\\\n",
       "    & {W_{empty}}_{SimpleAircraft} \\geq 1 \\times 10^{-30} \\\\\n",
       "    & {M_1}_{SimpleAircraft} \\leq 1 \\times 10^{30} \\\\\n",
       "    & {M_1}_{SimpleAircraft} \\geq 1 \\times 10^{-30} \\\\\n",
       "    & {M_3}_{SimpleAircraft} \\leq 1 \\times 10^{30} \\\\\n",
       "    & {M_3}_{SimpleAircraft} \\geq 1 \\times 10^{-30} \\\\\n",
       "    & {M_5}_{SimpleAircraft} \\leq 1 \\times 10^{30} \\\\\n",
       "    & {M_5}_{SimpleAircraft} \\geq 1 \\times 10^{-30} \\\\\n",
       "    & {M_{payload}}_{SimpleAircraft} \\leq 1 \\times 10^{30} \\\\\n",
       "    & {M_{payload}}_{SimpleAircraft} \\geq 1 \\times 10^{-30} \\\\\n",
       "    & {V_{alt}}_{SimpleAircraft} \\leq 1 \\times 10^{30} \\\\\n",
       "    & {V_{alt}}_{SimpleAircraft} \\geq 1 \\times 10^{-30} \\\\\n",
       "    & {Ma_{alt}}_{SimpleAircraft} \\leq 1 \\times 10^{30} \\\\\n",
       "    & {Ma_{alt}}_{SimpleAircraft} \\geq 1 \\times 10^{-30} \\\\\n",
       "    & {LD_{max}}_{SimpleAircraft} \\leq 1 \\times 10^{30} \\\\\n",
       "    & {LD_{max}}_{SimpleAircraft} \\geq 1 \\times 10^{-30} \\\\\n",
       "    & {z1}_{SimpleAircraft} \\leq 1 \\times 10^{30} \\\\\n",
       "    & {z1}_{SimpleAircraft} \\geq 1 \\times 10^{-30} \\\\\n",
       "    & {V_{cruise}}_{SimpleAircraft} \\leq 1 \\times 10^{30} \\\\\n",
       "    & {V_{cruise}}_{SimpleAircraft} \\geq 1 \\times 10^{-30} \\\\\n",
       "    & {M_{empty}}_{SimpleAircraft} \\leq 1 \\times 10^{30} \\\\\n",
       "    & {M_{empty}}_{SimpleAircraft} \\geq 1 \\times 10^{-30} \\\\\n",
       "    & {M_8}_{SimpleAircraft} \\leq 1 \\times 10^{30} \\\\\n",
       "    & {M_8}_{SimpleAircraft} \\geq 1 \\times 10^{-30} \\\\\n",
       "\\end{array}$$"
      ],
      "text/plain": [
       "<gpkit.Model object containing 1 top-level constraint(s) and 40 variable(s)>"
      ]
     },
     "execution_count": 3,
     "metadata": {},
     "output_type": "execute_result"
    }
   ],
   "source": [
    "#create the simple aircraft\n",
    "AC = SimpleAircraft()\n",
    "\n",
    "# define the optimizer to the AC.W_0, and set constraints to be the AC\n",
    "M = Model(AC.W_0, Bounded(AC))\n",
    "\n",
    "#print latex version of the constraints\n",
    "M"
   ]
  },
  {
   "cell_type": "code",
   "execution_count": 4,
   "metadata": {},
   "outputs": [
    {
     "name": "stdout",
     "output_type": "stream",
     "text": [
      "Using solver 'cvxopt'\n",
      "Solving for 24 variables.\n",
      "Solving took 0.102 seconds.\n"
     ]
    }
   ],
   "source": [
    "# run a solve\n",
    "sol = M.solve()"
   ]
  },
  {
   "cell_type": "code",
   "execution_count": 34,
   "metadata": {},
   "outputs": [
    {
     "data": {
      "text/latex": [
       "$${SFC_{cruise}}_{SimpleAircraft}\\mathrm{~\\left[ \\tfrac{\\mathrm{mg}}{\\left(\\mathrm{N}\\cdot \\mathrm{s}\\right)} \\right]}$$"
      ],
      "text/plain": [
       "gpkit.Variable(SimpleAircraft.SFC_{cruise} [mg/N/s])"
      ]
     },
     "execution_count": 34,
     "metadata": {},
     "output_type": "execute_result"
    }
   ],
   "source": [
    "(AC.SFC_cruise)"
   ]
  },
  {
   "cell_type": "code",
   "execution_count": 40,
   "metadata": {},
   "outputs": [
    {
     "data": {
      "text/html": [
       "0.00019423800000000003 kilogram meter milligram<sup>2</sup>/(newton second<sup>3</sup>)"
      ],
      "text/latex": [
       "$0.00019423800000000003\\ \\frac{\\mathrm{kilogram} \\cdot \\mathrm{meter} \\cdot \\mathrm{milligram}^{2}}{\\left(\\mathrm{newton} \\cdot \\mathrm{second}^{3}\\right)}$"
      ],
      "text/plain": [
       "0.00019423800000000003 <Unit('kilogram * meter * milligram ** 2 / newton / second ** 3')>"
      ]
     },
     "execution_count": 40,
     "metadata": {},
     "output_type": "execute_result"
    }
   ],
   "source": [
    "(19.8*u.mg/(u.N*u.s) * 9.81*u.m/u.s**2) * 1*u.kg/1000000*u.mg"
   ]
  },
  {
   "cell_type": "code",
   "execution_count": 5,
   "metadata": {},
   "outputs": [],
   "source": [
    "# print(sol.summary()) \n",
    "#the summary which usually works well is a bit buggy here. Ive raised an appropriate github issue, and hopefully they will push a new version of gpkit that fixes it. \n",
    "#In the mean time ive written a rough version of it"
   ]
  },
  {
   "cell_type": "code",
   "execution_count": 24,
   "metadata": {},
   "outputs": [
    {
     "data": {
      "text/plain": [
       "4568.814541781234"
      ]
     },
     "execution_count": 24,
     "metadata": {},
     "output_type": "execute_result"
    }
   ],
   "source": [
    "m_fuel = sol['freevariables']['SimpleAircraft.M_0']-sol['freevariables']['SimpleAircraft.M_9']\n",
    "m_fuel"
   ]
  },
  {
   "cell_type": "code",
   "execution_count": 25,
   "metadata": {},
   "outputs": [
    {
     "data": {
      "text/plain": [
       "0.1943797116501431"
      ]
     },
     "execution_count": 25,
     "metadata": {},
     "output_type": "execute_result"
    }
   ],
   "source": [
    "fuel_fraction = m_fuel/sol['freevariables']['SimpleAircraft.M_0']\n",
    "fuel_fraction"
   ]
  },
  {
   "cell_type": "code",
   "execution_count": 6,
   "metadata": {
    "scrolled": false
   },
   "outputs": [
    {
     "name": "stdout",
     "output_type": "stream",
     "text": [
      "+------+----------------------------------+------------+--------+--------------------------------------------------+\n",
      "| Type |               Var                |    Val     |  Unit  |                   Description                    |\n",
      "+------+----------------------------------+------------+--------+--------------------------------------------------+\n",
      "| Free |        SimpleAircraft.W_0        |  230579.98 |   N    |            Weight (force) of aircraft            |\n",
      "| Free |    SimpleAircraft.W_{payload}    |   52974.00 |   N    |         Weight (force) of payload + crew         |\n",
      "| Free |      SimpleAircraft.W_{dry}      |  175245.20 |   N    | Weight (force) of dry aircraft (payload + empty) |\n",
      "| Free |     SimpleAircraft.W_{empty}     |  122271.20 |   N    |         Weight (force) of empty aircraft         |\n",
      "| Free |        SimpleAircraft.M_0        |   23504.59 |   kg   |                 Mass of aircraft                 |\n",
      "| Free |      SimpleAircraft.M_{dry}      |   17863.93 |   kg   |      Mass of dry aircraft (payload + empty)      |\n",
      "| Free |    SimpleAircraft.M_{payload}    |    5400.00 |   kg   |              Mass of payload + crew              |\n",
      "| Free |     SimpleAircraft.M_{empty}     |   12463.93 |   kg   |              Mass of empty aircraft              |\n",
      "| Free |        SimpleAircraft.M_1        |   22799.45 |   kg   |                    Mass at 1                     |\n",
      "| Free |        SimpleAircraft.M_2        |   22457.46 |   kg   |                    Mass at 2                     |\n",
      "| Free |        SimpleAircraft.M_4        |   20258.44 |   kg   |                    Mass at 4                     |\n",
      "| Free |        SimpleAircraft.M_3        |   20360.24 |   kg   |                    Mass at 3                     |\n",
      "| Free |        SimpleAircraft.M_5        |   19954.56 |   kg   |                    Mass at 5                     |\n",
      "| Free |        SimpleAircraft.M_8        |   19030.93 |   kg   |                    Mass at 8                     |\n",
      "| Free |        SimpleAircraft.M_7        |   19126.56 |   kg   |                    Mass at 7                     |\n",
      "| Free |        SimpleAircraft.M_9        |   18935.77 |   kg   |                    Mass at 9                     |\n",
      "| Free |     SimpleAircraft.LD_{max}      |      20.67 |        |                     L/D max                      |\n",
      "| Free |    SimpleAircraft.V_{cruise}     |     221.40 |  m/s   |             Cruise speed of aircraft             |\n",
      "| Free |        SimpleAircraft.z1         |       0.10 |        |          Dummy variable for range eqn1           |\n",
      "| Free |      SimpleAircraft.V_{alt}      |     236.16 |  m/s   |      Alt speed of aircraft for alternative       |\n",
      "| Free |        SimpleAircraft.z2         |       0.02 |        |          Dummy variable for range eqn 2          |\n",
      "| Free |        SimpleAircraft.M_6        |   19618.13 |   kg   |                    Mass at 6                     |\n",
      "| Free |     SimpleAircraft.Ma_{alt}      |       0.80 |        |                 Alt mach number                  |\n",
      "| Free |        SimpleAircraft.z3         |       0.03 |        |          Dummy variable for loitter eqn          |\n",
      "| Fix  |      SimpleAircraft.R_{alt}      |     370.00 |   km   |              Alt range of aircraft               |\n",
      "| Fix  |    SimpleAircraft.R_{cruise}     |    2000.00 |   km   |              Main range of aircraft              |\n",
      "| Fix  |  SimpleAircraft.N_{passengers}   |      50.00 |        |               number of passengers               |\n",
      "| Fix  |    SimpleAircraft.a_{cruise}     |     295.20 |  m/s   |           Speed of sound at 36,089 ft            |\n",
      "| Fix  |        SimpleAircraft.g_0        |       9.81 | m/s**2 |           Acceleration due to gravity            |\n",
      "| Fix  |     SimpleAircraft.N_{crew}      |       4.00 |        |                  number of crew                  |\n",
      "| Fix  |    SimpleAircraft.h_{cruise}     |   35000.00 |   ft   |                 Cruise altitude                  |\n",
      "| Fix  |       SimpleAircraft.K_LD        |      15.50 |        |   Coefficient for estimating max lift to drag    |\n",
      "| Fix  | SimpleAircraft.M_{per passenger} |     100.00 |   kg   |                mass per passenger                |\n",
      "| Fix  |   SimpleAircraft.SFC_{cruise}    |      19.80 | mg/N/s |        Specific Fuel Consumption, Cruise         |\n",
      "| Fix  |    SimpleAircraft.Ma_{cruise}    |       0.75 |        |                Cruise mach number                |\n",
      "| Fix  |    SimpleAircraft.t_{loiter}     |     45     |  min   |                 loiter endurance                 |\n",
      "| Fix  |  SimpleAircraft.S_{wet}/S_{ref}  |       6.00 |        |               S wet to S ref ratio               |\n",
      "| Fix  |      SimpleAircraft.a_{alt}      |     295.20 |  m/s   |             Speed of sound at alt ft             |\n",
      "| Fix  |        SimpleAircraft.AR         |       8.00 |        |                Aspect ratio, main                |\n",
      "+------+----------------------------------+------------+--------+--------------------------------------------------+\n"
     ]
    }
   ],
   "source": [
    "x = PrettyTable()\n",
    "\n",
    "x.field_names = ['Type', 'Var', 'Val', 'Unit', \"Description\"]\n",
    "\n",
    "for k, v in sol['freevariables'].items():\n",
    "    \n",
    "    x.add_row(['Free', k, v, k.unitstr(), k.descr['label']])\n",
    "\n",
    "    \n",
    "for k, v in sol['constants'].items():\n",
    "    \n",
    "    x.add_row(['Fix', k, v, k.unitstr(), k.descr['label']])\n",
    "\n",
    "x.float_format = '10.2'\n",
    "\n",
    "print(x)"
   ]
  },
  {
   "cell_type": "code",
   "execution_count": 7,
   "metadata": {},
   "outputs": [],
   "source": [
    "vars = ['SimpleAircraft.M_0','SimpleAircraft.M_1', 'SimpleAircraft.M_2','SimpleAircraft.M_3','SimpleAircraft.M_4','SimpleAircraft.M_5','SimpleAircraft.M_6','SimpleAircraft.M_7','SimpleAircraft.M_8','SimpleAircraft.M_9', 'SimpleAircraft.M_{dry}']\n",
    "alpha_list = [sol['freevariables'][var]/sol['freevariables']['SimpleAircraft.M_0'] for var in vars]"
   ]
  },
  {
   "cell_type": "code",
   "execution_count": 8,
   "metadata": {},
   "outputs": [
    {
     "data": {
      "text/plain": [
       "[1.0,\n",
       " 0.97000000009258,\n",
       " 0.9554500001809966,\n",
       " 0.8662240952899448,\n",
       " 0.8618929748936808,\n",
       " 0.8489645803500689,\n",
       " 0.8346511575462172,\n",
       " 0.8137373179464782,\n",
       " 0.8096686314320698,\n",
       " 0.8056202883498569,\n",
       " 0.7600191400272281]"
      ]
     },
     "execution_count": 8,
     "metadata": {},
     "output_type": "execute_result"
    }
   ],
   "source": [
    "alpha_list"
   ]
  },
  {
   "cell_type": "code",
   "execution_count": 9,
   "metadata": {
    "scrolled": false
   },
   "outputs": [
    {
     "data": {
      "text/plain": [
       "{'freevariables': {SimpleAircraft.W_0: 230579.98318284622,\n",
       "  SimpleAircraft.W_{payload}: 52973.99996394035,\n",
       "  SimpleAircraft.W_{dry}: 175245.20054952195,\n",
       "  SimpleAircraft.W_{empty}: 122271.20200497401,\n",
       "  SimpleAircraft.M_0: 23504.58544770596,\n",
       "  SimpleAircraft.M_{dry}: 17863.934818661983,\n",
       "  SimpleAircraft.M_{payload}: 5399.999997580617,\n",
       "  SimpleAircraft.M_{empty}: 12463.93496867222,\n",
       "  SimpleAircraft.M_1: 22799.447886450835,\n",
       "  SimpleAircraft.M_2: 22457.456170264908,\n",
       "  SimpleAircraft.M_4: 20258.437075166006,\n",
       "  SimpleAircraft.M_3: 20360.238264604297,\n",
       "  SimpleAircraft.M_5: 19954.560520914027,\n",
       "  SimpleAircraft.M_8: 19030.925531822228,\n",
       "  SimpleAircraft.M_7: 19126.558321660068,\n",
       "  SimpleAircraft.M_9: 18935.770905924725,\n",
       "  SimpleAircraft.LD_{max}: 20.666666586412028,\n",
       "  SimpleAircraft.V_{cruise}: 221.39999959520512,\n",
       "  SimpleAircraft.z1: 0.0980388600349257,\n",
       "  SimpleAircraft.V_{alt}: 236.15994026077456,\n",
       "  SimpleAircraft.z2: 0.017003621183977264,\n",
       "  SimpleAircraft.M_6: 19618.12945157175,\n",
       "  SimpleAircraft.Ma_{alt}: 0.7999998989778765,\n",
       "  SimpleAircraft.z3: 0.0253762549904998},\n",
       " 'cost': 230579.98318284622 <Unit('newton')>,\n",
       " 'constants': {SimpleAircraft.R_{alt}: 370.0,\n",
       "  SimpleAircraft.R_{cruise}: 2000.0,\n",
       "  SimpleAircraft.N_{passengers}: 50.0,\n",
       "  SimpleAircraft.a_{cruise}: 295.2,\n",
       "  SimpleAircraft.g_0: 9.81,\n",
       "  SimpleAircraft.N_{crew}: 4.0,\n",
       "  SimpleAircraft.h_{cruise}: 35000.0,\n",
       "  SimpleAircraft.K_LD: 15.5,\n",
       "  SimpleAircraft.M_{per passenger}: 100.0,\n",
       "  SimpleAircraft.SFC_{cruise}: 19.8,\n",
       "  SimpleAircraft.Ma_{cruise}: 0.75,\n",
       "  SimpleAircraft.t_{loiter}: 45,\n",
       "  SimpleAircraft.S_{wet}/S_{ref}: 6.0,\n",
       "  SimpleAircraft.a_{alt}: 295.2,\n",
       "  SimpleAircraft.AR: 8.0},\n",
       " 'variables': {SimpleAircraft.W_0: 230579.98318284622,\n",
       "  SimpleAircraft.W_{payload}: 52973.99996394035,\n",
       "  SimpleAircraft.W_{dry}: 175245.20054952195,\n",
       "  SimpleAircraft.W_{empty}: 122271.20200497401,\n",
       "  SimpleAircraft.M_0: 23504.58544770596,\n",
       "  SimpleAircraft.M_{dry}: 17863.934818661983,\n",
       "  SimpleAircraft.M_{payload}: 5399.999997580617,\n",
       "  SimpleAircraft.M_{empty}: 12463.93496867222,\n",
       "  SimpleAircraft.M_1: 22799.447886450835,\n",
       "  SimpleAircraft.M_2: 22457.456170264908,\n",
       "  SimpleAircraft.M_4: 20258.437075166006,\n",
       "  SimpleAircraft.M_3: 20360.238264604297,\n",
       "  SimpleAircraft.M_5: 19954.560520914027,\n",
       "  SimpleAircraft.M_8: 19030.925531822228,\n",
       "  SimpleAircraft.M_7: 19126.558321660068,\n",
       "  SimpleAircraft.M_9: 18935.770905924725,\n",
       "  SimpleAircraft.LD_{max}: 20.666666586412028,\n",
       "  SimpleAircraft.V_{cruise}: 221.39999959520512,\n",
       "  SimpleAircraft.z1: 0.0980388600349257,\n",
       "  SimpleAircraft.V_{alt}: 236.15994026077456,\n",
       "  SimpleAircraft.z2: 0.017003621183977264,\n",
       "  SimpleAircraft.M_6: 19618.12945157175,\n",
       "  SimpleAircraft.Ma_{alt}: 0.7999998989778765,\n",
       "  SimpleAircraft.z3: 0.0253762549904998,\n",
       "  SimpleAircraft.R_{alt}: 370.0,\n",
       "  SimpleAircraft.R_{cruise}: 2000.0,\n",
       "  SimpleAircraft.N_{passengers}: 50.0,\n",
       "  SimpleAircraft.a_{cruise}: 295.2,\n",
       "  SimpleAircraft.g_0: 9.81,\n",
       "  SimpleAircraft.N_{crew}: 4.0,\n",
       "  SimpleAircraft.h_{cruise}: 35000.0,\n",
       "  SimpleAircraft.K_LD: 15.5,\n",
       "  SimpleAircraft.M_{per passenger}: 100.0,\n",
       "  SimpleAircraft.SFC_{cruise}: 19.8,\n",
       "  SimpleAircraft.Ma_{cruise}: 0.75,\n",
       "  SimpleAircraft.t_{loiter}: 45,\n",
       "  SimpleAircraft.S_{wet}/S_{ref}: 6.0,\n",
       "  SimpleAircraft.a_{alt}: 295.2,\n",
       "  SimpleAircraft.AR: 8.0},\n",
       " 'sensitivities': {'nu': array([1.00000000e+00, 8.78357812e-01, 2.02736938e+00, 8.92358571e-01,\n",
       "         1.89235857e+00, 3.70072140e+00, 7.94994209e-01, 9.09487374e-01,\n",
       "         1.78784521e+00, 9.00040901e-01, 2.92741025e+00, 8.78357839e-01,\n",
       "         2.02736935e+00, 2.90572719e+00, 2.90572719e+00, 2.90572719e+00,\n",
       "         2.90572719e+00, 2.90572719e+00, 2.90572719e+00, 2.90572719e+00,\n",
       "         2.04008760e-01, 2.84873191e-01, 2.58270846e-01, 2.63437218e+00,\n",
       "         1.26602896e-02, 4.13733455e-04, 1.01404891e-05, 4.94078555e-02,\n",
       "         4.85748736e-02, 2.85673699e+00, 4.12974375e-04, 2.34068661e-06,\n",
       "         9.95003711e-09, 2.84873191e-01, 4.94078555e-02, 4.94078555e-02,\n",
       "         2.04008760e-01, 7.37364735e-02, 7.18888605e-02, 2.83291843e+00,\n",
       "         9.12135027e-04, 7.71552368e-06, 4.89477741e-08, 1.36576583e-12,\n",
       "         9.29521939e-13, 1.34401634e-12, 9.33718190e-13, 1.40342393e-12,\n",
       "         9.12880423e-13, 1.34756508e-12, 9.37746469e-13, 1.42730900e-12,\n",
       "         9.02766143e-13, 1.35244982e-12, 9.37298869e-13, 1.34603400e-12,\n",
       "         9.36643209e-13, 1.01914138e-12, 1.21430595e-12, 1.35759708e-12,\n",
       "         9.35872683e-13, 9.07398826e-13, 1.37198847e-12, 1.36212195e-12,\n",
       "         9.33769559e-13, 1.33183996e-12, 9.51164201e-13, 1.40474091e-12,\n",
       "         9.10962960e-13, 1.36371832e-12, 9.32289955e-13, 1.35884539e-12,\n",
       "         9.34936481e-13, 1.35613470e-12, 9.36772730e-13, 1.28045522e-12,\n",
       "         9.81826177e-13, 1.33467370e-12, 9.42210867e-13, 1.15514717e-12,\n",
       "         1.06337475e-12, 1.17541273e-12, 1.05118028e-12, 1.04577623e-12,\n",
       "         1.17797128e-12, 1.22280509e-12, 1.02084306e-12, 1.34412649e-12,\n",
       "         9.37720285e-13, 1.34672089e-12, 9.37670126e-13]),\n",
       "  'la': array([1.00000000e+00, 2.90572719e+00, 8.92358571e-01, 1.89235857e+00,\n",
       "         3.70072140e+00, 7.94994209e-01, 9.09487374e-01, 1.78784521e+00,\n",
       "         9.00040901e-01, 2.92741025e+00, 8.78357839e-01, 2.02736935e+00,\n",
       "         2.90572719e+00, 2.90572719e+00, 2.90572719e+00, 2.90572719e+00,\n",
       "         2.90572719e+00, 2.90572719e+00, 2.90572719e+00, 2.04008760e-01,\n",
       "         2.84873191e-01, 2.90572719e+00, 4.94078555e-02, 2.90572719e+00,\n",
       "         2.84873191e-01, 4.94078555e-02, 4.94078555e-02, 2.04008760e-01,\n",
       "         7.37364735e-02, 2.90572719e+00, 1.36576583e-12, 9.29521939e-13,\n",
       "         1.34401634e-12, 9.33718190e-13, 1.40342393e-12, 9.12880423e-13,\n",
       "         1.34756508e-12, 9.37746469e-13, 1.42730900e-12, 9.02766143e-13,\n",
       "         1.35244982e-12, 9.37298869e-13, 1.34603400e-12, 9.36643209e-13,\n",
       "         1.01914138e-12, 1.21430595e-12, 1.35759708e-12, 9.35872683e-13,\n",
       "         9.07398826e-13, 1.37198847e-12, 1.36212195e-12, 9.33769559e-13,\n",
       "         1.33183996e-12, 9.51164201e-13, 1.40474091e-12, 9.10962960e-13,\n",
       "         1.36371832e-12, 9.32289955e-13, 1.35884539e-12, 9.34936481e-13,\n",
       "         1.35613470e-12, 9.36772730e-13, 1.28045522e-12, 9.81826177e-13,\n",
       "         1.33467370e-12, 9.42210867e-13, 1.15514717e-12, 1.06337475e-12,\n",
       "         1.17541273e-12, 1.05118028e-12, 1.04577623e-12, 1.17797128e-12,\n",
       "         1.22280509e-12, 1.02084306e-12, 1.34412649e-12, 9.37720285e-13,\n",
       "         1.34672089e-12, 9.37670126e-13]),\n",
       "  'cost': {SimpleAircraft.W_0: 1.0},\n",
       "  'variables': {SimpleAircraft.W_{payload}: -2.718962446053668e-08,\n",
       "   SimpleAircraft.W_{empty}: 2.7284189080972113e-08,\n",
       "   SimpleAircraft.W_{dry}: -9.456408732519536e-11,\n",
       "   SimpleAircraft.M_0: -5.673535460374224e-12,\n",
       "   SimpleAircraft.W_0: 9.456324612244771e-11,\n",
       "   SimpleAircraft.g_0: 1.4080175204105845,\n",
       "   SimpleAircraft.M_{dry}: 9.45629837969234e-11,\n",
       "   SimpleAircraft.M_{payload}: -9.456404422862793e-11,\n",
       "   SimpleAircraft.M_{empty}: -9.456473586172581e-11,\n",
       "   SimpleAircraft.N_{crew}: 0.06506354362200954,\n",
       "   SimpleAircraft.N_{passengers}: 0.8132942952751194,\n",
       "   SimpleAircraft.M_{per passenger}: 0.8783578388971289,\n",
       "   SimpleAircraft.M_1: 2.177456427787531e-16,\n",
       "   SimpleAircraft.M_2: -1.5259681730570626e-15,\n",
       "   SimpleAircraft.M_3: 2.46824622244435e-15,\n",
       "   SimpleAircraft.M_4: -1.9367139344765955e-15,\n",
       "   SimpleAircraft.M_5: 1.4740216683072267e-15,\n",
       "   SimpleAircraft.M_8: 4.886893068570809e-16,\n",
       "   SimpleAircraft.M_7: -7.573467578536477e-17,\n",
       "   SimpleAircraft.M_9: 8.287209560775418e-16,\n",
       "   SimpleAircraft.LD_{max}: -9.456402477866978e-11,\n",
       "   SimpleAircraft.K_LD: -0.4080175204085704,\n",
       "   SimpleAircraft.S_{wet}/S_{ref}: 0.4080175204085704,\n",
       "   SimpleAircraft.AR: -0.4080175204085704,\n",
       "   SimpleAircraft.SFC_{cruise}: 0.4080175205032587,\n",
       "   SimpleAircraft.z1: -4.3042654115527744e-09,\n",
       "   SimpleAircraft.R_{cruise}: 0.28487319149345186,\n",
       "   SimpleAircraft.V_{cruise}: -4.304929010153341e-17,\n",
       "   SimpleAircraft.V_{alt}: 1.287374776321948e-17,\n",
       "   SimpleAircraft.R_{alt}: 0.04940785551388019,\n",
       "   SimpleAircraft.z2: 2.8731584775070582e-08,\n",
       "   SimpleAircraft.M_6: -1.4047294161772143e-15,\n",
       "   SimpleAircraft.a_{cruise}: -0.28487319149324986,\n",
       "   SimpleAircraft.Ma_{cruise}: -0.28487319149324986,\n",
       "   SimpleAircraft.Ma_{alt}: 5.549496277271862e-18,\n",
       "   SimpleAircraft.a_{alt}: -0.04940785551348774,\n",
       "   SimpleAircraft.t_{loiter}: 0.0737364734959266,\n",
       "   SimpleAircraft.z3: -6.134877201963583e-10},\n",
       "  'constants': {SimpleAircraft.g_0: 1.4080175204105845,\n",
       "   SimpleAircraft.N_{crew}: 0.06506354362200954,\n",
       "   SimpleAircraft.N_{passengers}: 0.8132942952751194,\n",
       "   SimpleAircraft.M_{per passenger}: 0.8783578388971289,\n",
       "   SimpleAircraft.K_LD: -0.4080175204085704,\n",
       "   SimpleAircraft.S_{wet}/S_{ref}: 0.4080175204085704,\n",
       "   SimpleAircraft.AR: -0.4080175204085704,\n",
       "   SimpleAircraft.SFC_{cruise}: 0.4080175205032587,\n",
       "   SimpleAircraft.R_{cruise}: 0.28487319149345186,\n",
       "   SimpleAircraft.R_{alt}: 0.04940785551388019,\n",
       "   SimpleAircraft.a_{cruise}: -0.28487319149324986,\n",
       "   SimpleAircraft.Ma_{cruise}: -0.28487319149324986,\n",
       "   SimpleAircraft.a_{alt}: -0.04940785551348774,\n",
       "   SimpleAircraft.t_{loiter}: 0.0737364734959266}},\n",
       " 'soltime': 0.10150289535522461,\n",
       " 'boundedness': {}}"
      ]
     },
     "execution_count": 9,
     "metadata": {},
     "output_type": "execute_result"
    }
   ],
   "source": [
    "#full solution dictionary\n",
    "sol"
   ]
  },
  {
   "cell_type": "code",
   "execution_count": 10,
   "metadata": {},
   "outputs": [],
   "source": [
    "# this is for the more complicated airplane, so ignore it.\n",
    "\n",
    "#AC = Aircraft()\n",
    "#MISSION = Mission(AC)\n",
    "#M = Model(MISSION.takeoff_fuel, [MISSION, AC])"
   ]
  },
  {
   "cell_type": "code",
   "execution_count": 11,
   "metadata": {},
   "outputs": [],
   "source": [
    "#AC"
   ]
  },
  {
   "cell_type": "code",
   "execution_count": 12,
   "metadata": {},
   "outputs": [],
   "source": [
    "#print(M)"
   ]
  },
  {
   "cell_type": "code",
   "execution_count": 13,
   "metadata": {},
   "outputs": [],
   "source": [
    "#sol = M.solve(verbosity=0)\n",
    "#print(sol.summary())"
   ]
  },
  {
   "cell_type": "code",
   "execution_count": 14,
   "metadata": {},
   "outputs": [],
   "source": [
    "############ tool to check fit against historical data"
   ]
  },
  {
   "cell_type": "code",
   "execution_count": null,
   "metadata": {},
   "outputs": [],
   "source": []
  },
  {
   "cell_type": "code",
   "execution_count": 15,
   "metadata": {},
   "outputs": [],
   "source": [
    "fit_A =  0.97 #Using Table 3.1 of Raymer, Jet transport\n",
    "fit_C = -0.06 #Using Table 3.1 of Raymer, Jet transport\n",
    "fit_K_vs = 1.00 # assumes fixed sweep"
   ]
  },
  {
   "cell_type": "code",
   "execution_count": 16,
   "metadata": {},
   "outputs": [
    {
     "name": "stdout",
     "output_type": "stream",
     "text": [
      "0.5506363636363636 0.5323856898319124\n"
     ]
    },
    {
     "data": {
      "text/plain": [
       "0.31"
      ]
     },
     "execution_count": 16,
     "metadata": {},
     "output_type": "execute_result"
    }
   ],
   "source": [
    "#ERJ145\n",
    "me = 12114\n",
    "m0 = 22000\n",
    "actual_ratio = me/m0\n",
    "expected_ratio = fit_A*(m0)**fit_C*fit_K_vs\n",
    "print(actual_ratio, expected_ratio)\n",
    "maxTW = 0.31\n",
    "maxTW"
   ]
  },
  {
   "cell_type": "code",
   "execution_count": 17,
   "metadata": {},
   "outputs": [
    {
     "name": "stdout",
     "output_type": "stream",
     "text": [
      "0.5754752298157314 0.5295592794391422\n"
     ]
    },
    {
     "data": {
      "text/plain": [
       "0.16468638077975947"
      ]
     },
     "execution_count": 17,
     "metadata": {},
     "output_type": "execute_result"
    }
   ],
   "source": [
    "#crj200\n",
    "me = 13835\n",
    "m0 = 24041\n",
    "actual_ratio = me/m0\n",
    "expected_ratio = fit_A*(m0)**fit_C*fit_K_vs\n",
    "print(actual_ratio, expected_ratio)\n",
    "maxTW = 38840/(m0*9.81)\n",
    "maxTW"
   ]
  },
  {
   "cell_type": "code",
   "execution_count": 18,
   "metadata": {},
   "outputs": [
    {
     "name": "stdout",
     "output_type": "stream",
     "text": [
      "0.5899350363032423 0.5186429056203041\n"
     ]
    },
    {
     "data": {
      "text/plain": [
       "0.18368340603810204"
      ]
     },
     "execution_count": 18,
     "metadata": {},
     "output_type": "execute_result"
    }
   ],
   "source": [
    "#crj700\n",
    "me = 20069\n",
    "m0 = 34019\n",
    "actual_ratio = me/m0\n",
    "expected_ratio = fit_A*(m0)**fit_C*fit_K_vs\n",
    "print(actual_ratio, expected_ratio)\n",
    "maxTW = 61300/(m0*9.81)\n",
    "maxTW\n"
   ]
  },
  {
   "cell_type": "code",
   "execution_count": null,
   "metadata": {},
   "outputs": [],
   "source": []
  }
 ],
 "metadata": {
  "kernelspec": {
   "display_name": "AVD_Sizing_3",
   "language": "python",
   "name": "avd_sizing_3"
  },
  "language_info": {
   "codemirror_mode": {
    "name": "ipython",
    "version": 3
   },
   "file_extension": ".py",
   "mimetype": "text/x-python",
   "name": "python",
   "nbconvert_exporter": "python",
   "pygments_lexer": "ipython3",
   "version": "3.6.7"
  }
 },
 "nbformat": 4,
 "nbformat_minor": 2
}
