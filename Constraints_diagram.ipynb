{
 "cells": [
  {
   "cell_type": "markdown",
   "metadata": {},
   "source": [
    "# Constraints Diagram\n",
    "### AVD Group 16\n",
    "Aero Year 4 2019-2020\n",
    "Last updated: 2019.10.17"
   ]
  },
  {
   "cell_type": "code",
   "execution_count": 1,
   "metadata": {},
   "outputs": [],
   "source": [
    "import numpy as np\n",
    "import array as arr\n",
    "import pandas as pd\n",
    "import math as math\n",
    "import matplotlib.pyplot as plt\n",
    "import fluids"
   ]
  },
  {
   "cell_type": "markdown",
   "metadata": {},
   "source": [
    "## Function returns CLmax, Cd, e based on configuration and gear"
   ]
  },
  {
   "cell_type": "code",
   "execution_count": 2,
   "metadata": {},
   "outputs": [
    {
     "name": "stdout",
     "output_type": "stream",
     "text": [
      "clean cl, cd, e: (1.5561, 0.02, 0.9)\n",
      "takeoff cl, cd, e: (1.8279, 0.04, 0.85)\n",
      "takeoff with gear cl, cd, e: (1.8279, 0.06, 0.75)\n",
      "approach cl, cd, e: (2.0844, 0.04, 0.85)\n",
      "landing cl, cd, e: (2.3454, 0.06, 0.8300000000000001)\n",
      "landing with gear cl, cd, e: (2.3454, 0.08, 0.7300000000000001)\n"
     ]
    }
   ],
   "source": [
    "def flap(config=None, gear=False):\n",
    "    \"\"\"function returns tuple of cl, cd, e with input configuration and gear option\n",
    "    Args:\n",
    "        config (str): flap configuration (basically comes from flaps angles)\n",
    "            If set to None, clean config. is returned\n",
    "        gear (bool): gear option\n",
    "    Returns:\n",
    "        (tuple): tuple of cl, cd, e\n",
    "    \"\"\"\n",
    "    # Airfoil choice: NACA23015\n",
    "    # >> factor of 0.9 is multiplied into cl to account for 3D airfoil correction\n",
    "    \n",
    "    # clean configuration \n",
    "    cl = 0.9*1.729\n",
    "    cd = 0.02\n",
    "    e = 0.9\n",
    "    \n",
    "    if config == 'takeoff':\n",
    "        cl = 0.9*2.031\n",
    "        cd += 0.02\n",
    "        e -= 0.05\n",
    "        \n",
    "    if config == 'approach':\n",
    "        cl = 0.9*2.316\n",
    "        cd += 0.02\n",
    "        e -= 0.05\n",
    "    \n",
    "    if config == 'landing':\n",
    "        cl = 0.9*2.606\n",
    "        cd += 0.04\n",
    "        e -= 0.07\n",
    "    \n",
    "    # append if gear is down\n",
    "    if gear:\n",
    "        cd += 0.02\n",
    "        e -= 0.1\n",
    "    \n",
    "    return cl, cd, e\n",
    "\n",
    "# print all configurations\n",
    "cl, cd, e = flap(config='clean', gear=False)\n",
    "print(f'clean cl, cd, e: {cl, cd, e}')\n",
    "\n",
    "cl, cd, e = flap(config='takeoff', gear=False)\n",
    "print(f'takeoff cl, cd, e: {cl, cd, e}')\n",
    "\n",
    "cl, cd, e = flap(config='takeoff', gear=True)\n",
    "print(f'takeoff with gear cl, cd, e: {cl, cd, e}')\n",
    "\n",
    "cl, cd, e = flap(config='approach', gear=False)\n",
    "print(f'approach cl, cd, e: {cl, cd, e}')\n",
    "\n",
    "cl, cd, e = flap(config='landing', gear=False)\n",
    "print(f'landing cl, cd, e: {cl, cd, e}')\n",
    "\n",
    "cl, cd, e = flap(config='landing', gear=True)\n",
    "print(f'landing with gear cl, cd, e: {cl, cd, e}')"
   ]
  },
  {
   "cell_type": "markdown",
   "metadata": {},
   "source": [
    "## Inputs related to aircraft parameters"
   ]
  },
  {
   "cell_type": "code",
   "execution_count": 3,
   "metadata": {},
   "outputs": [
    {
     "name": "stdout",
     "output_type": "stream",
     "text": [
      "Aspect ratio: 7.623796033994335\n"
     ]
    }
   ],
   "source": [
    "# Reference data from CRJ700\n",
    "Sref     = 70.6    # m2\n",
    "b        = 23.2    # m wingspan\n",
    "Kld      = 11      # stand. value for retractable prop aircraft\n",
    "SwetSref = 5.7     # Estimated value\n",
    "\n",
    "AR       = b**2/Sref\n",
    "#AR = 7.6            # FIXME!!! - Weight sizing uses 8!!!\n",
    "\n",
    "print('Aspect ratio: {}'.format(AR))\n",
    "\n",
    "# conversion ratio\n",
    "ft2m = 0.3048\n",
    "ms2knots = 1.94384449\n",
    "\n",
    "# physical constants\n",
    "g     = 9.81\n",
    "\n",
    "# Initialize array of WSo\n",
    "WSo  = np.linspace(1,8100,100+1)\n"
   ]
  },
  {
   "cell_type": "markdown",
   "metadata": {},
   "source": [
    "## List of $\\alpha$ and functions to calculate  $\\beta$"
   ]
  },
  {
   "cell_type": "code",
   "execution_count": 4,
   "metadata": {},
   "outputs": [],
   "source": [
    "# List of alphas from GPKit notebook\n",
    "# this is [M_0, M_1, M_2, ..., M_8, M_9, M_dry\n",
    "# M_9 is the mass at the end of landing and taxi, M_dry is different due to assumed 6% ullage\n",
    "# ------------------------- #\n",
    "# M_0   = alpha_list[0]  - taxi and takeoff\n",
    "# M_1   = alpha_list[1]  - climb and accelerate\n",
    "# M_2   = alpha_list[2]  - cruise for 2,000 km at Mach 0.75\n",
    "# M_3   = alpha_list[3]  - descent to land\n",
    "# M_4   = alpha_list[4]  - missed approach climb\n",
    "# M_5   = alpha_list[5]  - cruise to alternate dest.\n",
    "# M_6   = alpha_list[6]  - loiter at 1,500 m for 45 min\n",
    "# M_7   = alpha_list[7]  - descent to land\n",
    "# M_8   = alpha_list[8]  - landing & taxi\n",
    "# M_9   = alpha_list[9]  - end of landing & taxi (with fuel left over)\n",
    "# M_dry = alpha_list[10] - dry mass\n",
    "# ------------------------- #\n",
    "alpha_list = [1.0,\n",
    " 0.9700000000217274,\n",
    " 0.9554500000424797,\n",
    " 0.8662240940895669,\n",
    " 0.8618929736379425,\n",
    " 0.8489645790521038,\n",
    " 0.8346511478768818,\n",
    " 0.8137373076948168,\n",
    " 0.8096686211740269,\n",
    " 0.8056202780857528,\n",
    " 0.7600191302870707]\n"
   ]
  },
  {
   "cell_type": "code",
   "execution_count": 5,
   "metadata": {},
   "outputs": [],
   "source": [
    "# Function calculates betas\n",
    "def calc_beta(z):\n",
    "    \"\"\"\n",
    "    Function calculates beta's for different altitudes # FIXME - should also have dependencies on speed/Mach?\n",
    "    Args:\n",
    "        z (float): altitude in meters\n",
    "    Returns:\n",
    "        (float): value of beta\n",
    "    \"\"\"\n",
    "    #Z is assumed to be in meters\n",
    "    atm = fluids.atmosphere.ATMOSPHERE_1976(z)\n",
    "    atm0 = fluids.atmosphere.ATMOSPHERE_1976(0)\n",
    "    P = atm.P\n",
    "    P0 = atm0.P\n",
    "    sigma = P/P0\n",
    "    return sigma**0.7"
   ]
  },
  {
   "cell_type": "markdown",
   "metadata": {},
   "source": [
    "## Function to calculate T/W_0 = f( W_0/S )\n",
    "Use same equation (full version for twin jet), re-assign values to parameters for each scenario\n",
    "\n",
    "$ \\left( \\dfrac{T}{W} \\right)_0 = \\dfrac{\\alpha}{\\beta} \\left[ \\dfrac{1}{V_{inf}}\\dfrac{dh}{dt} + \\dfrac{1}{g}\\dfrac{dV_{inf}}{dt} + \\dfrac{\\tfrac{1}{2}\\rho V_{inf}^2 C_{D_0}}{\\alpha \\tfrac{W_0}{S_{ref}}} + \\dfrac{\\alpha n^2 \\tfrac{W_0}{S_{ref}}}{\\tfrac{1}{2} \\rho V_{inf}^2 \\pi AR e} \\right] $"
   ]
  },
  {
   "cell_type": "code",
   "execution_count": 6,
   "metadata": {},
   "outputs": [],
   "source": [
    "# Define function (T/W)_0 = fn(S/W0, etc.)\n",
    "def TWvsWS(WSo,alpha,beta,dhdt,dvdt,rho,Vinf,Cdo,n,AR,e,split=False):\n",
    "    \"\"\"\n",
    "    Function calculates T/W for given S/W\n",
    "    Args:\n",
    "        WSo (array): list of WSo at which T/W is to be computed\n",
    "        alpha (float): W/W0 \n",
    "        beta (float): T/T0\n",
    "        dhdt (float): climb rate [m/s]\n",
    "        dvdt (float): acceleration rate [m/s^2]\n",
    "        rho (float): air density at altitude [kg/m^3]\n",
    "        Vinf (float): true airspeed [m/s]\n",
    "        Cdo (float): zero-lift drag\n",
    "        n (float): load factor\n",
    "        AR (float): aspect ratio\n",
    "        e (float): oswald defficiency\n",
    "        split (bool): if set to True, return functions output element-wise\n",
    "    Returns:\n",
    "        (array): values of function output (i.e. (T/W)o) evaluated for each element in WSo\n",
    "    \"\"\"\n",
    "    g = 9.81\n",
    "    \n",
    "    # calculate term-by-term\n",
    "    term_climb = (1/Vinf)*dhdt\n",
    "    term_accel = (1/g)*dvdt\n",
    "    term_cdo = (.5*rho*Vinf**2*Cdo)/(alpha*WSo)\n",
    "    term_cdi = (alpha*n**2*WSo)/(.5*rho*Vinf**2*np.pi*AR*e)\n",
    "    \n",
    "    # sum all terms of the equation\n",
    "    TW = (alpha/beta)*(term_climb + term_accel + term_cdo + term_cdi)\n",
    "    \n",
    "    if split == True:\n",
    "        return  term_climb,term_accel,term_cdo,term_cdi\n",
    "    \n",
    "    # else return sum\n",
    "    return TW\n"
   ]
  },
  {
   "cell_type": "markdown",
   "metadata": {},
   "source": [
    "### Take off"
   ]
  },
  {
   "cell_type": "code",
   "execution_count": 7,
   "metadata": {},
   "outputs": [],
   "source": [
    "CLmax, Cdo, e = flap(config='takeoff', gear=True)\n",
    "sigma = 1\n",
    "BFL = 1500# + 35*ft2m/0.024\n",
    "Ne = 2\n",
    "TW_BFL = (1/BFL)*(0.297 - 0.019*Ne)*WSo/(sigma*CLmax)\n",
    "\n",
    "TW_AEO = (1/BFL)*0.144*WSo/(sigma*CLmax)\n"
   ]
  },
  {
   "cell_type": "markdown",
   "metadata": {},
   "source": [
    "###  Landing distance\n",
    "\n",
    "$ ALD = 0.51 \\frac{W/S}{\\sigma C_{L, max}} KR + Sa $\n",
    "\n",
    "$W/S = \\sigma C_{L,max} \\frac{ALD - SA}{0.51 K_R}$\n",
    "\n"
   ]
  },
  {
   "cell_type": "code",
   "execution_count": 8,
   "metadata": {},
   "outputs": [
    {
     "data": {
      "text/plain": [
       "4145.909090909091"
      ]
     },
     "execution_count": 8,
     "metadata": {},
     "output_type": "execute_result"
    }
   ],
   "source": [
    "# ===================================================================== #\n",
    "# Landing distance line\n",
    "# >> Plotted as vertical line\n",
    "CLmax, Cdo, e = flap(config='landing', gear=True)\n",
    "\n",
    "sigma = 1\n",
    "\n",
    "ALD = 1500/(5/3)\n",
    "SA = 305   #FIXME, from Errikos slides\n",
    "Kr = 0.66\n",
    "\n",
    "WS_landing = sigma*CLmax*(ALD-SA)/(0.51*Kr)\n",
    "\n",
    "WS_landing"
   ]
  },
  {
   "cell_type": "code",
   "execution_count": 9,
   "metadata": {},
   "outputs": [],
   "source": [
    "# ===================================================================== #\n",
    "# Max Speed at Cruise Altitude\n",
    "# >> Mach 0.8 at cruise altitude\n",
    "#TW_serviceceil = alpha/beta * (((1/Vinf)*dhdt) + ((1/g)*(dvdt)) + ((.5*rho*Vinf**2*Cdo)/(alpha*WSo)) + ((alpha*n**2*WSo)/(.5*rho*Vinf**2*pi*AR*e)))\n",
    "atmosphere = fluids.atmosphere.ATMOSPHERE_1976(35000*ft2m)\n",
    "rho = atmosphere.rho\n",
    "\n",
    "n = 1 # approx.\n",
    "CLmax, Cdo, e = flap(config='clean', gear=False)\n",
    "Minf  = 0.8\n",
    "ainf  = 296.535 # FIXME: introduce standard atmosphere \n",
    "Vinf  = Minf*ainf\n",
    "dhdt = 0\n",
    "dvdt = 0\n",
    "alpha = alpha_list[2]\n",
    "beta = calc_beta(35000*ft2m)\n",
    "\n",
    "TW_cruise_max_speed = TWvsWS(WSo,alpha,beta,dhdt,dvdt,rho,Vinf,Cdo,n,AR,e)   \n",
    "#TW_cruise_max_speed = alpha/beta * (((1/Vinf)*dhdt) + ((1/g)*(dvdt)) + ((.5*rho*Vinf**2*Cdo)/(alpha*WSo)) + ((alpha*n**2*WSo)/(.5*rho*Vinf**2*np.pi*AR*e)))\n"
   ]
  },
  {
   "cell_type": "code",
   "execution_count": 10,
   "metadata": {},
   "outputs": [],
   "source": [
    "# ===================================================================== #\n",
    "# Absolute ceiling 42,000 ft\n",
    "# >> Absolute steady-level flight\n",
    "atmosphere = fluids.atmosphere.ATMOSPHERE_1976(42000*ft2m)\n",
    "rho = atmosphere.rho\n",
    "\n",
    "n = 1\n",
    "CLmax, Cdo, e = flap(config='clean', gear=False)\n",
    "Vstall = np.sqrt(2*WSo/(rho*CLmax))  # Vstall = fn(WSo)\n",
    "Vinf = Vstall\n",
    "dhdt = 0\n",
    "dvdt = 0\n",
    "alpha = alpha_list[2]\n",
    "beta = calc_beta(42000*ft2m) \n",
    "TW_absceil = TWvsWS(WSo,alpha,beta,dhdt,dvdt,rho,Vinf,Cdo,n,AR,e)\n",
    "#tmp = alpha/beta * (((1/Vinf)*dhdt) + ((1/g)*(dvdt)) + ((.5*rho*Vinf**2*Cdo)/(alpha*WSo)) + ((alpha*n**2*WSo)/(.5*rho*Vinf**2*np.pi*AR*e)))\n",
    "#print(TW_absceil-tmp) # should be 0"
   ]
  },
  {
   "cell_type": "markdown",
   "metadata": {},
   "source": [
    "### Climb segments (1 ~ 4)\n",
    "![alt text](https://i.stack.imgur.com/Jxmaa.png)"
   ]
  },
  {
   "cell_type": "code",
   "execution_count": 11,
   "metadata": {},
   "outputs": [
    {
     "name": "stdout",
     "output_type": "stream",
     "text": [
      "1st climb segment alpha: 0.97, beta: 1.0, V/Vstall: {1.115, 1.1149999999999998, 1.1150000000000002}, Cdo: 0.06, CLmax:1.83\n",
      "2nd climb segment alpha: 0.97, beta: 0.999, V/Vstall: {1.1299999999999997, 1.13, 1.1300000000000001}, Cdo: 0.04, CLmax:1.83\n",
      "3rd climb segment alpha: 0.97, beta: 0.99, V/Vstall: {1.1463039105069117, 1.1463039105069113, 1.1463039105069115}, Cdo: 0.02, CLmax:1.56\n",
      "4th climb segment alpha: 0.97, beta: 0.963, V/Vstall: {1.25, 1.2499999999999998}, Cdo: 0.02, CLmax:1.56\n"
     ]
    }
   ],
   "source": [
    "# ===================================================================== #\n",
    "# Climb segments are given in: \n",
    "# https://aviation.stackexchange.com/questions/3310/how-are-take-off-segments-defined\n",
    "rho = 1.225   # assumed air-density is approx. constant\n",
    "\n",
    "# 1st segment - TAKEOFF \n",
    "# >> right after rotate, take-off configuration, flaps, gear up, until 35 ft)\n",
    "n = 1 # approx.\n",
    "CLmax, Cdo, e = flap(config='takeoff', gear=True)\n",
    "Vstall = np.sqrt(2*WSo/(rho*CLmax))  # Vstall = fn(WSo)\n",
    "dhdt = 0\n",
    "obstacle = 35*0.3048\n",
    "VLOF = 1.1*Vstall\n",
    "V2 = 1.13*Vstall  # FAR25 - Part 25.107 Takeoff speeds.\n",
    "Vinf = (VLOF + V2)/2  # average between LOF flight and V2\n",
    "dvdt = (V2**2 - VLOF**2)*(0.024/(2*obstacle))\n",
    "alpha = alpha_list[1]\n",
    "beta = calc_beta(0*ft2m)\n",
    "TW_climb1 = TWvsWS(WSo,alpha,beta,dhdt,dvdt,rho,Vinf,Cdo,n,AR,e) \n",
    "TW_climb1_EO = 2*TW_climb1\n",
    "#TW_climb1 = alpha/beta * (((1/Vinf)*dhdt) + ((1/g)*(dvdt)) + ((.5*rho*Vinf**2*Cdo)/(alpha*WSo)) + ((alpha*n**2*WSo)/(.5*rho*Vinf**2*np.pi*AR*e)))\n",
    "#TW_climb1_EO = 2*alpha/beta * (((1/Vinf)*dhdt) + ((1/g)*(dvdt)) + ((.5*rho*Vinf**2*Cdo)/(alpha*WSo)) + ((alpha*n**2*WSo)/(.5*rho*Vinf**2*np.pi*AR*e)))\n",
    "print(f'1st climb segment alpha: {alpha:.3}, beta: {beta:.3}, V/Vstall: {set(Vinf/Vstall)}, Cdo: {Cdo:.3}, CLmax:{CLmax:.3}')\n",
    "\n",
    "# 2nd segment - climb\n",
    "# >> steady climb, constant v (dvdt = 0)\n",
    "n = 1 # approx.\n",
    "CLmax, Cdo, e = flap(config='takeoff', gear=False)\n",
    "Vstall = np.sqrt(2*WSo/(rho*CLmax))  # Vstall = fn(WSo)\n",
    "Vinf = V2\n",
    "dhdt = 0.024*Vinf\n",
    "dvdt = 0\n",
    "alpha = alpha_list[1]\n",
    "beta = calc_beta(35*ft2m)\n",
    "TW_climb2 = TWvsWS(WSo,alpha,beta,dhdt,dvdt,rho,Vinf,Cdo,n,AR,e) \n",
    "TW_climb2_EO = 2*TW_climb2\n",
    "#TW_climb2 = alpha/beta * (((1/Vinf)*dhdt) + ((1/g)*(dvdt)) + ((.5*rho*Vinf**2*Cdo)/(alpha*WSo)) + ((alpha*n**2*WSo)/(.5*rho*Vinf**2*np.pi*AR*e)))\n",
    "#TW_climb2_EO = 2*alpha/beta * (((1/Vinf)*dhdt) + ((1/g)*(dvdt)) + ((.5*rho*Vinf**2*Cdo)/(alpha*WSo)) + ((alpha*n**2*WSo)/(.5*rho*Vinf**2*np.pi*AR*e)))\n",
    "print(f'2nd climb segment alpha: {alpha:.3}, beta: {beta:.3}, V/Vstall: {set(Vinf/Vstall)}, Cdo: {Cdo:.3}, CLmax:{CLmax:.3}')\n",
    "\n",
    "# 3rd segment - acceleration\n",
    "# >> \"during this segment, the airplane is considered to be maintaining the 400 ft above the ground and \n",
    "#     acelerating from the V2 speed to the VFS speed before the climb proile is continued. The flaps are \n",
    "#     raised at the beginning of the acceleratio segment and power is maintained at the takeoff settign \n",
    "#     as long as possible (5 minutesmaximum)\"\n",
    "n = 1 # approx.\n",
    "CLmax, Cdo, e = flap(config='clean', gear=False)\n",
    "Vstall = np.sqrt(2*WSo/(rho*CLmax))  # Vstall = fn(WSo)\n",
    "V3 = 1.25*Vstall\n",
    "Vinf = (V3 + V2)/2    # average of initial and final velocities in acceleration segment\n",
    "dhdt = 0\n",
    "time_to_accelerate = 5*60   # 5 minutes... worst case ratio [sec]\n",
    "dvdt = (V3 - V2)/time_to_accelerate\n",
    "alpha = alpha_list[1]\n",
    "beta = calc_beta(400*ft2m)\n",
    "TW_climb3 = TWvsWS(WSo,alpha,beta,dhdt,dvdt,rho,Vinf,Cdo,n,AR,e) \n",
    "TW_climb3_EO = 2*TW_climb3\n",
    "#TW_climb3 = alpha/beta * (((1/Vinf)*dhdt) + ((1/g)*(dvdt)) + ((.5*rho*Vinf**2*Cdo)/(alpha*WSo)) + ((alpha*n**2*WSo)/(.5*rho*Vinf**2*np.pi*AR*e)))\n",
    "#TW_climb3_EO = 2*alpha/beta * (((1/Vinf)*dhdt) + ((1/g)*(dvdt)) + ((.5*rho*Vinf**2*Cdo)/(alpha*WSo)) + ((alpha*n**2*WSo)/(.5*rho*Vinf**2*np.pi*AR*e)))\n",
    "print(f'3rd climb segment alpha: {alpha:.3}, beta: {beta:.3}, V/Vstall: {set(Vinf/Vstall)}, Cdo: {Cdo:.3}, CLmax:{CLmax:.3}')\n",
    "\n",
    "# 4th segment - climb\n",
    "# >> climb at minimum of 1.2%\n",
    "n = 1 # approx.\n",
    "CLmax, Cdo, e = flap(config='clean', gear=False)\n",
    "Vstall = np.sqrt(2*WSo/(rho*CLmax))  # Vstall = fn(WSo)\n",
    "Vinf = V3\n",
    "dhdt = 0.012*Vinf\n",
    "dvdt = 0\n",
    "alpha = alpha_list[1]\n",
    "beta = calc_beta(1500*ft2m)\n",
    "TW_climb4 = TWvsWS(WSo,alpha,beta,dhdt,dvdt,rho,Vinf,Cdo,n,AR,e) \n",
    "TW_climb4_EO = 2*TW_climb4\n",
    "#TW_climb4 = alpha/beta * (((1/Vinf)*dhdt) + ((1/g)*(dvdt)) + ((.5*rho*Vinf**2*Cdo)/(alpha*WSo)) + ((alpha*n**2*WSo)/(.5*rho*Vinf**2*np.pi*AR*e)))\n",
    "#TW_climb4_EO = 2*alpha/beta * (((1/Vinf)*dhdt) + ((1/g)*(dvdt)) + ((.5*rho*Vinf**2*Cdo)/(alpha*WSo)) + ((alpha*n**2*WSo)/(.5*rho*Vinf**2*np.pi*AR*e)))\n",
    "print(f'4th climb segment alpha: {alpha:.3}, beta: {beta:.3}, V/Vstall: {set(Vinf/Vstall)}, Cdo: {Cdo:.3}, CLmax:{CLmax:.3}')\n"
   ]
  },
  {
   "cell_type": "code",
   "execution_count": 12,
   "metadata": {},
   "outputs": [],
   "source": [
    "# ===================================================================== #\n",
    "# Approach climb\n",
    "# >> 1 EOP, approach flaps, no gear\n",
    "atmosphere = fluids.atmosphere.ATMOSPHERE_1976(1500*ft2m)\n",
    "rho = atmosphere.rho\n",
    "n = 1 # approx.\n",
    "CLmax, Cdo, e = flap(config='approach', gear=False)\n",
    "Vstall = np.sqrt(2*WSo/(rho*CLmax))  # Vstall = fn(WSo)\n",
    "Vinf = 1.5*Vstall\n",
    "dhdt = 0.021*Vinf\n",
    "dvdt = 0\n",
    "alpha = alpha_list[4]\n",
    "beta = calc_beta(1500*ft2m)\n",
    "TW_approachclimb = 2*TWvsWS(WSo,alpha,beta,dhdt,dvdt,rho,Vinf,Cdo,n,AR,e)\n",
    "\n",
    "Vinf = Vstall\n",
    "dhdt = 0.021*Vinf\n",
    "TW_approachclimb_vstall = 2*TWvsWS(WSo,alpha,beta,dhdt,dvdt,rho,Vinf,Cdo,n,AR,e)\n",
    "#TW_approachclimb = alpha/beta * (((1/Vinf)*dhdt) + ((1/g)*(dvdt)) + ((.5*rho*Vinf**2*Cdo)/(alpha*WSo)) + ((alpha*n**2*WSo)/(.5*rho*Vinf**2*pi*AR*e)))\n"
   ]
  },
  {
   "cell_type": "code",
   "execution_count": 13,
   "metadata": {},
   "outputs": [],
   "source": [
    "# ===================================================================== #\n",
    "# landing climb\n",
    "# >> with landing gears, landing flaps, climb\n",
    "atmosphere = fluids.atmosphere.ATMOSPHERE_1976(30*ft2m)\n",
    "rho = atmosphere.rho\n",
    "n = 1 # approx.\n",
    "CLmax, Cdo, e = flap(config='approach', gear=True)\n",
    "Vstall = np.sqrt(2*WSo/(rho*CLmax))  # Vstall = fn(WSo)\n",
    "Vinf = 1.3*Vstall\n",
    "dhdt = 0.032*Vinf\n",
    "dvdt = 0\n",
    "alpha = alpha_list[4]\n",
    "beta = calc_beta(30*ft2m)\n",
    "TW_landingclimb = TWvsWS(WSo,alpha,beta,dhdt,dvdt,rho,Vinf,Cdo,n,AR,e)\n",
    "\n",
    "Vinf = Vstall\n",
    "dhdt = 0.032*Vinf\n",
    "TW_landingclimb_vstall = TWvsWS(WSo,alpha,beta,dhdt,dvdt,rho,Vinf,Cdo,n,AR,e)"
   ]
  },
  {
   "cell_type": "code",
   "execution_count": 14,
   "metadata": {},
   "outputs": [
    {
     "data": {
      "image/png": "[encoded data removed]",
      "text/plain": [
       "<Figure size 504x360 with 1 Axes>"
      ]
     },
     "metadata": {
      "needs_background": "light"
     },
     "output_type": "display_data"
    }
   ],
   "source": [
    "# plot approach climb and landing climb\n",
    "fig = plt.figure(figsize=(7,5))\n",
    "\n",
    "# approach climb with 1.5*Vstall\n",
    "plt.plot(WSo, TW_approachclimb, label=\"approach climb with 1.5*Vstall\")\n",
    "# approach climb with Vstall\n",
    "plt.plot(WSo, TW_approachclimb_vstall, label=\"approach climb with Vstall\")\n",
    "\n",
    "# landing climb with 1.5*Vstall\n",
    "plt.plot(WSo, TW_landingclimb, label=\"landing climb with 1.5*Vstall\")\n",
    "# landing climb with Vstall\n",
    "plt.plot(WSo, TW_landingclimb_vstall, label=\"landing climb with Vstall\")\n",
    "\n",
    "\n",
    "# PLOT SETTINGS\n",
    "ax = plt.gca()\n",
    "ax.set(xlim=(0, 8000), ylim=(0, 0.3)) \n",
    "plt.xlabel('Wo/S [N/m^2]')\n",
    "plt.ylabel('(T/W)o')\n",
    "plt.title('Constraint Diagram')\n",
    "plt.legend(loc='lower right')\n",
    "plt.grid()\n",
    "plt.show()\n"
   ]
  },
  {
   "cell_type": "code",
   "execution_count": 15,
   "metadata": {},
   "outputs": [],
   "source": [
    "# ===================================================================== #\n",
    "# cruise\n",
    "atmosphere = fluids.atmosphere.ATMOSPHERE_1976(35000*ft2m)\n",
    "rho = atmosphere.rho\n",
    "n = 1 # approx.\n",
    "CLmax, Cdo, e = flap(config='clean', gear=False)\n",
    "#Vstall = np.sqrt(2*WSo/(rho*CLmax))  # Vstall = fn(WSo)\n",
    "Minf  = 0.75\n",
    "ainf  = 296.535\n",
    "Vinf  = Minf*ainf\n",
    "dhdt = 0\n",
    "dvdt = 0\n",
    "alpha = alpha_list[2]\n",
    "beta = calc_beta(35000*ft2m) \n",
    "TW_cruise = TWvsWS(WSo,alpha,beta,dhdt,dvdt,rho,Vinf,Cdo,n,AR,e) \n",
    "#tmp = alpha/beta * (((1/Vinf)*dhdt) + ((1/g)*(dvdt)) + ((.5*rho*Vinf**2*Cdo)/(alpha*WSo)) + ((alpha*n**2*WSo)/(.5*rho*Vinf**2*np.pi*AR*e)))\n"
   ]
  },
  {
   "cell_type": "markdown",
   "metadata": {},
   "source": [
    "### Loiter\n",
    "Assume load factor $n$, then\n",
    "$n = \\dfrac{L}{mg} = \\dfrac{1}{\\cos(\\theta)}$\n",
    "\n",
    "also from horizontal equilibrium\n",
    "\n",
    "$m\\omega^2 R = L\\sin(\\theta)$\n",
    "\n",
    "$R\\omega^2 = \\dfrac{L}{mg}g \\sin(\\theta)$\n",
    "\n",
    "$R = \\dfrac{n g \\sin(\\theta)}{\\omega^2}$\n"
   ]
  },
  {
   "cell_type": "code",
   "execution_count": 16,
   "metadata": {},
   "outputs": [
    {
     "name": "stdout",
     "output_type": "stream",
     "text": [
      "prescribed load factor: 1.2\n",
      "bank angle: 33.557 [deg]\n",
      "turn radius: 2.374 [km]\n",
      "Vinf during loiter: 124.279 [m/s] or 241.578 [knots]\n"
     ]
    }
   ],
   "source": [
    "# ===================================================================== #\n",
    "# loiter\n",
    "# >> 3 degrees per second turn\n",
    "atmosphere = fluids.atmosphere.ATMOSPHERE_1976(1500)\n",
    "rho = atmosphere.rho\n",
    "n = 1.2   # FIXME - guessed load factor for loiter\n",
    "print(f'prescribed load factor: {n}')\n",
    "theta = np.arccos(1/n) # [rad]\n",
    "print(f'bank angle: {theta*180/np.pi:.3f} [deg]')\n",
    "omega = 3 * np.pi/180   #prescribed 3 degrees per second turn [rad/sec]\n",
    "R = n*g*np.sin(theta)/(omega**2)\n",
    "print(f'turn radius: {R/1000:.3f} [km]')\n",
    "\n",
    "CLmax, Cdo, e = flap(config='clean', gear=False)\n",
    "Vinf  = omega*R\n",
    "print(f'Vinf during loiter: {Vinf:.3f} [m/s] or {Vinf*ms2knots:.3f} [knots]')\n",
    "dhdt = 0\n",
    "dvdt = 0\n",
    "alpha = alpha_list[6]\n",
    "beta = calc_beta(1500)\n",
    "TW_loiter = TWvsWS(WSo,alpha,beta,dhdt,dvdt,rho,Vinf,Cdo,n,AR,e) \n",
    "#tmp = alpha/beta * (((1/Vinf)*dhdt) + ((1/g)*(dvdt)) + ((.5*rho*Vinf**2*Cdo)/(alpha*WSo)) + ((alpha*n**2*WSo)/(.5*rho*Vinf**2*np.pi*AR*e)))"
   ]
  },
  {
   "cell_type": "code",
   "execution_count": 17,
   "metadata": {},
   "outputs": [],
   "source": [
    "# other aircrafts design points\n",
    "# >> plot other aircraft's design points for reference\n"
   ]
  },
  {
   "cell_type": "markdown",
   "metadata": {},
   "source": [
    "## Constraint Diagram"
   ]
  },
  {
   "cell_type": "code",
   "execution_count": 18,
   "metadata": {},
   "outputs": [
    {
     "name": "stderr",
     "output_type": "stream",
     "text": [
      "The PostScript backend does not support transparency; partially transparent artists will be rendered opaque.\n",
      "The PostScript backend does not support transparency; partially transparent artists will be rendered opaque.\n"
     ]
    },
    {
     "name": "stdout",
     "output_type": "stream",
     "text": [
      "Picked T/W: [0.3377680119751228]\n"
     ]
    },
    {
     "data": {
      "image/png": "[encoded data removed]",
      "text/plain": [
       "<Figure size 1080x1080 with 1 Axes>"
      ]
     },
     "metadata": {
      "needs_background": "light"
     },
     "output_type": "display_data"
    },
    {
     "name": "stdout",
     "output_type": "stream",
     "text": [
      "Minimum T/W: [0.27358713 0.27358713 0.27358713 0.27358713 0.27358713 0.27358713\n",
      " 0.27358713 0.27358713 0.27358713 0.27358713 0.27358713 0.27358713\n",
      " 0.27358713 0.27358713 0.27358713 0.27358713 0.27358713 0.27358713\n",
      " 0.27358713 0.27358713 0.27358713 0.27358713 0.27358713 0.27358713\n",
      " 0.27358713 0.27358713 0.27358713 0.27358713 0.27358713 0.27358713\n",
      " 0.27358713 0.27358713 0.27358713 0.27358713 0.27358713 0.27358713\n",
      " 0.27358713 0.27358713 0.27358713 0.27358713 0.27358713 0.27358713\n",
      " 0.27358713 0.27358713 0.27358713 0.27358713 0.27358713 0.27358713\n",
      " 0.27358713 0.27358713 0.27358713 0.27358713 0.27358713 0.27358713\n",
      " 0.27358713 0.27358713 0.27358713 0.27358713 0.27358713 0.27358713\n",
      " 0.27358713 0.27358713 0.27358713 0.27358713 0.27358713 0.27358713\n",
      " 0.27358713 0.27358713 0.27358713 0.27358713 0.27358713 0.27358713\n",
      " 0.27358713 0.27358713 0.27358713 0.27358713 0.27358713 0.27358713\n",
      " 0.27358713 0.27358713 0.27358713 0.27358713 0.27358713 0.27358713\n",
      " 0.27358713 0.27358713 0.27358713 0.27358713 0.27358713 0.27358713\n",
      " 0.27358713 0.27358713 0.27358713 0.27358713 0.27358713 0.27358713\n",
      " 0.27358713 0.27358713 0.27358713 0.27358713 0.27358713]\n",
      "Takeoff weight: 176452.47 N\n",
      "[24137.56263943 24137.56263943 24137.56263943 24137.56263943\n",
      " 24137.56263943 24137.56263943 24137.56263943 24137.56263943\n",
      " 24137.56263943 24137.56263943 24137.56263943 24137.56263943\n",
      " 24137.56263943 24137.56263943 24137.56263943 24137.56263943\n",
      " 24137.56263943 24137.56263943 24137.56263943 24137.56263943\n",
      " 24137.56263943 24137.56263943 24137.56263943 24137.56263943\n",
      " 24137.56263943 24137.56263943 24137.56263943 24137.56263943\n",
      " 24137.56263943 24137.56263943 24137.56263943 24137.56263943\n",
      " 24137.56263943 24137.56263943 24137.56263943 24137.56263943\n",
      " 24137.56263943 24137.56263943 24137.56263943 24137.56263943\n",
      " 24137.56263943 24137.56263943 24137.56263943 24137.56263943\n",
      " 24137.56263943 24137.56263943 24137.56263943 24137.56263943\n",
      " 24137.56263943 24137.56263943 24137.56263943 24137.56263943\n",
      " 24137.56263943 24137.56263943 24137.56263943 24137.56263943\n",
      " 24137.56263943 24137.56263943 24137.56263943 24137.56263943\n",
      " 24137.56263943 24137.56263943 24137.56263943 24137.56263943\n",
      " 24137.56263943 24137.56263943 24137.56263943 24137.56263943\n",
      " 24137.56263943 24137.56263943 24137.56263943 24137.56263943\n",
      " 24137.56263943 24137.56263943 24137.56263943 24137.56263943\n",
      " 24137.56263943 24137.56263943 24137.56263943 24137.56263943\n",
      " 24137.56263943 24137.56263943 24137.56263943 24137.56263943\n",
      " 24137.56263943 24137.56263943 24137.56263943 24137.56263943\n",
      " 24137.56263943 24137.56263943 24137.56263943 24137.56263943\n",
      " 24137.56263943 24137.56263943 24137.56263943 24137.56263943\n",
      " 24137.56263943 24137.56263943 24137.56263943 24137.56263943\n",
      " 24137.56263943]\n"
     ]
    }
   ],
   "source": [
    "# ========== CONSTRAINT DIAGRAM ========== \n",
    "fig = plt.figure(figsize=(15,15))\n",
    "\n",
    "# climb segment 1\n",
    "#plt.plot(WSo, TW_climb1, 'b-', label=\"1st climb segment\")\n",
    "# climb segment 2\n",
    "#plt.plot(WSo, TW_climb2, 'g-', label=\"2nd climb segment\")\n",
    "# climb segment 3\n",
    "#plt.plot(WSo, TW_climb3, 'r-', label=\"3rd climb segment\")\n",
    "# climb segment 4\n",
    "#plt.plot(WSo, TW_climb4, 'c-', label=\"4th climb segment\")\n",
    "\n",
    "plt.plot(WSo, TW_BFL, label='BFL')\n",
    "plt.plot(WSo, TW_AEO, label='AEO')\n",
    "\n",
    "# climb segment 1, EO\n",
    "plt.plot(WSo, TW_climb1_EO, 'b--', label=\"1st climb segment, EO\")\n",
    "# climb segment 2 EO\n",
    "plt.plot(WSo, TW_climb2_EO, 'g--', label=\"2nd climb segment, EO\")\n",
    "# climb segment 3, EO\n",
    "plt.plot(WSo, TW_climb3_EO, 'r--', label=\"3rd climb segment, EO\")\n",
    "# climb segment 4, EO\n",
    "plt.plot(WSo, TW_climb4_EO, 'c--', label=\"4th climb segment, EO\")\n",
    "\n",
    "# Cruise\n",
    "plt.plot(WSo, TW_cruise, 'k-', label=\"Cruise\")\n",
    "\n",
    "# approach climb\n",
    "plt.plot(WSo, TW_approachclimb, 'm-.', label=\"Approach climb, EO\")\n",
    "\n",
    "# landing climb (gear down)\n",
    "plt.plot(WSo, TW_landingclimb, 'm:', label=\"Landing climb\")\n",
    "\n",
    "# loiter 1\n",
    "plt.plot(WSo, TW_loiter, 'k--', label=\"loiter\")\n",
    "\n",
    "# landing req\n",
    "plt.axvline(x = WS_landing, label='Landing constraint on runway length')\n",
    "\n",
    "# max cruise speed\n",
    "plt.plot(WSo, TW_cruise_max_speed, 'k-.', label=\"Max cruise speed\")\n",
    "\n",
    "# Abs ceiling\n",
    "plt.plot(WSo, TW_absceil, 'y:', label=\"Absolute ceiling\")\n",
    "\n",
    "\n",
    "# DESIGN POINT - plot picked point:\n",
    "Ttakeoff = 29.8*1000      # take-off thrust per engine - Lycoming ALF502 R-3 [N]\n",
    "Thrustpoint = 2*Ttakeoff\n",
    "Wtakeoff = 17987*9.81   # max. take-off weight [N]\n",
    "\n",
    "WSo_picked = [4145]\n",
    "TW_picked = [Thrustpoint/Wtakeoff]\n",
    "print(f'Picked T/W: {TW_picked}')\n",
    "\n",
    "plt.plot(WSo_picked, TW_picked, '*', label='Picked Point', markersize=20)\n",
    "\n",
    "\n",
    "# PLOT SETTINGS\n",
    "ax = plt.gca()\n",
    "ax.set(xlim=(0, 5000), ylim=(0, 0.5)) \n",
    "plt.xlabel('Wo/S [N/m^2]')\n",
    "plt.ylabel('(T/W)o')\n",
    "plt.title('Constraint Diagram')\n",
    "plt.legend(loc='upper right')\n",
    "plt.grid()\n",
    "\n",
    "# save constraint diagram as .eps file\n",
    "plt.savefig('constraint_diagram.eps', format='eps') # save as eps\n",
    "\n",
    "plt.show()\n",
    "\n",
    "\n",
    "#ENGINE SELECTION\n",
    "print(f'Minimum T/W: {TW_absceil}')\n",
    "print(f'Takeoff weight: {Wtakeoff} N')\n",
    "minThrust = (TW_absceil * Wtakeoff)/2   # per engine\n",
    "print(minThrust)\n",
    "\n"
   ]
  },
  {
   "cell_type": "code",
   "execution_count": 19,
   "metadata": {},
   "outputs": [
    {
     "data": {
      "text/plain": [
       "array([0.2356558 , 0.23673234, 0.23780888, 0.23888542, 0.23996196,\n",
       "       0.2410385 , 0.24211504, 0.24319158, 0.24426812, 0.24534466,\n",
       "       0.2464212 , 0.24749774, 0.24857428, 0.24965082, 0.25072735,\n",
       "       0.25180389, 0.25288043, 0.25395697, 0.25503351, 0.25611005,\n",
       "       0.25718659, 0.25826313, 0.25933967, 0.26041621, 0.26149275,\n",
       "       0.26256929, 0.26364583, 0.26472237, 0.26579891, 0.26687545,\n",
       "       0.26795199, 0.26902853, 0.27010506, 0.2711816 , 0.27225814,\n",
       "       0.27333468, 0.27441122, 0.27548776, 0.2765643 , 0.27764084,\n",
       "       0.27871738, 0.27979392, 0.28087046, 0.281947  , 0.28302354,\n",
       "       0.28410008, 0.28517662, 0.28625316, 0.2873297 , 0.28840624,\n",
       "       0.28948278, 0.29055931, 0.29163585, 0.29271239, 0.29378893,\n",
       "       0.29486547, 0.29594201, 0.29701855, 0.29809509, 0.29917163,\n",
       "       0.30024817, 0.30132471, 0.30240125, 0.30347779, 0.30455433,\n",
       "       0.30563087, 0.30670741, 0.30778395, 0.30886049, 0.30993702,\n",
       "       0.31101356, 0.3120901 , 0.31316664, 0.31424318, 0.31531972,\n",
       "       0.31639626, 0.3174728 , 0.31854934, 0.31962588, 0.32070242,\n",
       "       0.32177896, 0.3228555 , 0.32393204, 0.32500858, 0.32608512,\n",
       "       0.32716166, 0.3282382 , 0.32931474, 0.33039127, 0.33146781,\n",
       "       0.33254435, 0.33362089, 0.33469743, 0.33577397, 0.33685051,\n",
       "       0.33792705, 0.33900359, 0.34008013, 0.34115667, 0.34223321,\n",
       "       0.34330975])"
      ]
     },
     "execution_count": 19,
     "metadata": {},
     "output_type": "execute_result"
    }
   ],
   "source": [
    "TW_climb1_EO"
   ]
  },
  {
   "cell_type": "code",
   "execution_count": 20,
   "metadata": {},
   "outputs": [
    {
     "data": {
      "text/plain": [
       "array([0.23497392, 0.23497392, 0.23497392, 0.23497392, 0.23497392,\n",
       "       0.23497392, 0.23497392, 0.23497392, 0.23497392, 0.23497392,\n",
       "       0.23497392, 0.23497392, 0.23497392, 0.23497392, 0.23497392,\n",
       "       0.23497392, 0.23497392, 0.23497392, 0.23497392, 0.23497392,\n",
       "       0.23497392, 0.23497392, 0.23497392, 0.23497392, 0.23497392,\n",
       "       0.23497392, 0.23497392, 0.23497392, 0.23497392, 0.23497392,\n",
       "       0.23497392, 0.23497392, 0.23497392, 0.23497392, 0.23497392,\n",
       "       0.23497392, 0.23497392, 0.23497392, 0.23497392, 0.23497392,\n",
       "       0.23497392, 0.23497392, 0.23497392, 0.23497392, 0.23497392,\n",
       "       0.23497392, 0.23497392, 0.23497392, 0.23497392, 0.23497392,\n",
       "       0.23497392, 0.23497392, 0.23497392, 0.23497392, 0.23497392,\n",
       "       0.23497392, 0.23497392, 0.23497392, 0.23497392, 0.23497392,\n",
       "       0.23497392, 0.23497392, 0.23497392, 0.23497392, 0.23497392,\n",
       "       0.23497392, 0.23497392, 0.23497392, 0.23497392, 0.23497392,\n",
       "       0.23497392, 0.23497392, 0.23497392, 0.23497392, 0.23497392,\n",
       "       0.23497392, 0.23497392, 0.23497392, 0.23497392, 0.23497392,\n",
       "       0.23497392, 0.23497392, 0.23497392, 0.23497392, 0.23497392,\n",
       "       0.23497392, 0.23497392, 0.23497392, 0.23497392, 0.23497392,\n",
       "       0.23497392, 0.23497392, 0.23497392, 0.23497392, 0.23497392,\n",
       "       0.23497392, 0.23497392, 0.23497392, 0.23497392, 0.23497392,\n",
       "       0.23497392])"
      ]
     },
     "execution_count": 20,
     "metadata": {},
     "output_type": "execute_result"
    }
   ],
   "source": [
    "TW_climb2_EO"
   ]
  },
  {
   "cell_type": "code",
   "execution_count": 21,
   "metadata": {},
   "outputs": [
    {
     "name": "stdout",
     "output_type": "stream",
     "text": [
      "Sref: 42.56995657418577 [m^2]\n",
      "Wingspan: 18.015123260682635 [m]\n",
      "Mean aerodynamic chord: 2.363012229124914 [m]\n"
     ]
    }
   ],
   "source": [
    "# calculation of aircraft parameters\n",
    "Sref = Wtakeoff/WSo_picked[0]\n",
    "B = np.sqrt(Sref*AR)     # wingspan\n",
    "Mac = Sref/B\n",
    "print(f'Sref: {Sref} [m^2]')\n",
    "print(f'Wingspan: {B} [m]')\n",
    "print(f'Mean aerodynamic chord: {Mac} [m]')\n"
   ]
  },
  {
   "cell_type": "code",
   "execution_count": 22,
   "metadata": {},
   "outputs": [],
   "source": [
    "# POINT PERFORMANCE\n",
    "\n",
    "#alpha  = 0.23\n",
    "#beta   = 0.96\n",
    "#f0     = 9000\n",
    "#w0     = 10000\n",
    "#dhdt   = 10668/9 #m/s\n",
    "#Cd0    = 0.2\n",
    "#e      = 0.9\n",
    "#rho    = 0.3795\n",
    "\n",
    "\n",
    "#TW_M2  = []\n",
    "#TW_M4  = []\n",
    "#TW_M6  = []\n",
    "#TW_M8  = []\n",
    "\n",
    "#W0_S = np.linspace(0.1,2,9)\n",
    "\n",
    "#for i in W0_S:\n",
    "#    \n",
    " #     TW_M2 = (beta/2) * (rho*(.2*296.54)**2*Cd0/W0_S)\n",
    "  #    TW_M4 = (beta/2) * (rho*(.4*296.54)**2*Cd0/W0_S)\n",
    "   #   TW_M6 = (beta/2) * (rho*(.6*296.54)**2*Cd0/W0_S)\n",
    "    #  TW_M8 = (beta/2) * (rho*(.8*296.54)**2*Cd0/W0_S)\n",
    "\n",
    "#plt.plot(W0_S, TW_M2, label=\"M=0.2\") \n",
    "#plt.plot(W0_S, TW_M4, label=\"M=0.4\") \n",
    "#plt.plot(W0_S, TW_M6, label=\"M=0.6\") \n",
    "#plt.plot(W0_S, TW_M8, label=\"M=0.8\") \n",
    "#plt.legend(loc='upper right')\n",
    "#plt.xlabel('Wing loading Wo/S (n/m2)')\n",
    "#plt.ylabel('Thrust/Weight (To/Wo)')\n",
    "#plt.title('Steady Level Flight @ different Mach')\n",
    "#plt.grid()\n",
    "#plt.show() \n",
    "\n",
    "#n = 1\n",
    "#for i in W0_S:\n",
    "    \n",
    "#      TW_M22 = (alpha/beta) * ((rho*(.2*296.54)**2*Cd0/W0_S*2*alpha) + (alpha*n**2*W0_S*2/rho*(.2*296.54)**2*3.14*AR*e))\n",
    "#      TW_M42 = (alpha/beta) * ((rho*(.4*296.54)**2*Cd0/W0_S*2*alpha) + (alpha*n**2*W0_S*2/rho*(.4*296.54)**2*3.14*AR*e))\n",
    "#      TW_M62 = (alpha/beta) * ((rho*(.6*296.54)**2*Cd0/W0_S*2*alpha) + (alpha*n**2*W0_S*2/rho*(.6*296.54)**2*3.14*AR*e))\n",
    "#      TW_M82 = (alpha/beta) * ((rho*(.8*296.54)**2*Cd0/W0_S*2*alpha) + (alpha*n**2*W0_S*2/rho*(.8*296.54)**2*3.14*AR*e))\n",
    "\n",
    "#plt.plot(W0_S, TW_M22, label=\"M=0.2\") \n",
    "#plt.plot(W0_S, TW_M42, label=\"M=0.4\") \n",
    "#plt.plot(W0_S, TW_M62, label=\"M=0.6\") \n",
    "#plt.plot(W0_S, TW_M82, label=\"M=0.8\") \n",
    "\n",
    "# PLOT FOR VERYING AR, W/Wo, n, here assumed that n=0 as steady level flight only"
   ]
  },
  {
   "cell_type": "code",
   "execution_count": 23,
   "metadata": {},
   "outputs": [],
   "source": [
    "# REDIFINE ALPA/BETA FOR EACH SEGMENT?"
   ]
  },
  {
   "cell_type": "code",
   "execution_count": null,
   "metadata": {},
   "outputs": [],
   "source": []
  }
 ],
 "metadata": {
  "kernelspec": {
   "display_name": "Python 3",
   "language": "python",
   "name": "python3"
  },
  "language_info": {
   "codemirror_mode": {
    "name": "ipython",
    "version": 3
   },
   "file_extension": ".py",
   "mimetype": "text/x-python",
   "name": "python",
   "nbconvert_exporter": "python",
   "pygments_lexer": "ipython3",
   "version": "3.6.7"
  }
 },
 "nbformat": 4,
 "nbformat_minor": 2
}
