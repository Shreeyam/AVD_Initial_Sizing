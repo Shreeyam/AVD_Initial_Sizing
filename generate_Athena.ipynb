{
 "cells": [
  {
   "cell_type": "code",
   "execution_count": 18,
   "metadata": {},
   "outputs": [],
   "source": [
    "from models.models import *\n",
    "import pint\n",
    "u = pint.UnitRegistry()\n",
    "import prettytable"
   ]
  },
  {
   "cell_type": "code",
   "execution_count": 8,
   "metadata": {},
   "outputs": [],
   "source": [
    "# create fuselage\n",
    "centerFuselage = CentreFuselage(diameter=2.55*u.m, length=28*u.m)\n",
    "\n",
    "# create afterbody\n",
    "afterbody = Afterbody(diameter=centerFuselage.diameter, afterbodyLDRatio=3)\n",
    "\n",
    "# create nose\n",
    "nose = Nose(centerFuselage.diameter, noseLDRatio=3)"
   ]
  },
  {
   "cell_type": "code",
   "execution_count": 9,
   "metadata": {},
   "outputs": [],
   "source": [
    "fuselage = Fuselage(centerFuselage, afterbody, nose)"
   ]
  },
  {
   "cell_type": "code",
   "execution_count": null,
   "metadata": {},
   "outputs": [],
   "source": [
    "prettytable."
   ]
  },
  {
   "cell_type": "code",
   "execution_count": 17,
   "metadata": {},
   "outputs": [
    {
     "name": "stdout",
     "output_type": "stream",
     "text": [
      "centreFuselage <models.CentreFuselage.CentreFuselage object at 0x10d72b080>\n",
      "afterbody <models.Afterbody.Afterbody object at 0x10d80a1d0>\n",
      "nose <models.Nose.Nose object at 0x10d9eb898>\n"
     ]
    }
   ],
   "source": [
    "for k in fuselage.__dict__:\n",
    "    print(k, fuselage.__dict__[k])"
   ]
  },
  {
   "cell_type": "code",
   "execution_count": 12,
   "metadata": {},
   "outputs": [
    {
     "name": "stdout",
     "output_type": "stream",
     "text": [
      "{'diameter': <Quantity(2.55, 'meter')>, 'noseLDRatio': 3}\n"
     ]
    }
   ],
   "source": []
  },
  {
   "cell_type": "code",
   "execution_count": 2,
   "metadata": {},
   "outputs": [
    {
     "ename": "TypeError",
     "evalue": "__init__() missing 4 required positional arguments: 'fuselage', 'wing', 'horizontalStabilizer', and 'verticalStabilizer'",
     "output_type": "error",
     "traceback": [
      "\u001b[0;31m---------------------------------------------------------------------------\u001b[0m",
      "\u001b[0;31mTypeError\u001b[0m                                 Traceback (most recent call last)",
      "\u001b[0;32m<ipython-input-2-1a29dd89d0e7>\u001b[0m in \u001b[0;36m<module>\u001b[0;34m\u001b[0m\n\u001b[0;32m----> 1\u001b[0;31m \u001b[0mAircraft\u001b[0m\u001b[0;34m(\u001b[0m\u001b[0;34m)\u001b[0m\u001b[0;34m\u001b[0m\u001b[0;34m\u001b[0m\u001b[0m\n\u001b[0m",
      "\u001b[0;31mTypeError\u001b[0m: __init__() missing 4 required positional arguments: 'fuselage', 'wing', 'horizontalStabilizer', and 'verticalStabilizer'"
     ]
    }
   ],
   "source": [
    "Aircraft(fuselage, wing, horzStab, vertStab)"
   ]
  },
  {
   "cell_type": "code",
   "execution_count": null,
   "metadata": {},
   "outputs": [],
   "source": [
    "models"
   ]
  },
  {
   "cell_type": "code",
   "execution_count": null,
   "metadata": {},
   "outputs": [],
   "source": [
    "models.Engine()"
   ]
  },
  {
   "cell_type": "code",
   "execution_count": null,
   "metadata": {},
   "outputs": [],
   "source": []
  }
 ],
 "metadata": {
  "kernelspec": {
   "display_name": "Python 3",
   "language": "python",
   "name": "python3"
  },
  "language_info": {
   "codemirror_mode": {
    "name": "ipython",
    "version": 3
   },
   "file_extension": ".py",
   "mimetype": "text/x-python",
   "name": "python",
   "nbconvert_exporter": "python",
   "pygments_lexer": "ipython3",
   "version": "3.6.7"
  }
 },
 "nbformat": 4,
 "nbformat_minor": 2
}
