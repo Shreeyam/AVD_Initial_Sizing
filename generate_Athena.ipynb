{
 "cells": [
  {
   "cell_type": "code",
   "execution_count": 1,
   "metadata": {},
   "outputs": [],
   "source": [
    "from models.models import *\n",
    "import pint\n",
    "u = pint.UnitRegistry()"
   ]
  },
  {
   "cell_type": "code",
   "execution_count": 2,
   "metadata": {},
   "outputs": [],
   "source": [
    "# create fuselage\n",
    "centerFuselage = CentreFuselage(diameter=2.55*u.m, length=28*u.m)\n",
    "\n",
    "# create afterbody\n",
    "afterbody = Afterbody(diameter=centerFuselage.diameter, afterbodyLDRatio=3)\n",
    "\n",
    "# create nose\n",
    "nose = Nose(centerFuselage.diameter, noseLDRatio=3)"
   ]
  },
  {
   "cell_type": "code",
   "execution_count": 3,
   "metadata": {},
   "outputs": [],
   "source": [
    "fuselage = Fuselage(centerFuselage, afterbody, nose)"
   ]
  },
  {
   "cell_type": "code",
   "execution_count": 4,
   "metadata": {},
   "outputs": [
    {
     "data": {
      "text/plain": [
       "\n",
       " Object: Fuselage\n",
       "centreFuselage \t \n",
       " -->  Object: CentreFuselage\n",
       " --> diameter \t 2.55 meter\n",
       " --> length \t 28 meter\n",
       "afterbody \t \n",
       " -->  Object: Afterbody\n",
       " --> diameter \t 2.55 meter\n",
       " --> afterbodyLDratio \t 3\n",
       "nose \t \n",
       " -->  Object: Nose\n",
       " --> diameter \t 2.55 meter\n",
       " --> noseLDRatio \t 3"
      ]
     },
     "execution_count": 4,
     "metadata": {},
     "output_type": "execute_result"
    }
   ],
   "source": [
    "fuselage"
   ]
  },
  {
   "cell_type": "code",
   "execution_count": 5,
   "metadata": {
    "scrolled": false
   },
   "outputs": [
    {
     "data": {
      "text/plain": [
       "'\\n Object: Fuselage\\ncentreFuselage \\t \\n -->  Object: CentreFuselage\\n --> diameter \\t 2.55 meter\\n --> length \\t 28 meter\\nafterbody \\t \\n -->  Object: Afterbody\\n --> diameter \\t 2.55 meter\\n --> afterbodyLDratio \\t 3\\nnose \\t \\n -->  Object: Nose\\n --> diameter \\t 2.55 meter\\n --> noseLDRatio \\t 3'"
      ]
     },
     "execution_count": 5,
     "metadata": {},
     "output_type": "execute_result"
    }
   ],
   "source": [
    "fuselage.__repr__()"
   ]
  },
  {
   "cell_type": "code",
   "execution_count": 6,
   "metadata": {},
   "outputs": [],
   "source": [
    "x_percentage = 0.5\n",
    "sweep = 30*u.deg\n",
    "taperRatio = 0.3\n",
    "area = 41*u.m**2\n",
    "aspectRatio = 8\n",
    "dihedral = 3*u.deg\n",
    "\n",
    "\n",
    "wing = Wing(x_percentage, sweep, taperRatio, area, aspectRatio, dihedral)"
   ]
  },
  {
   "cell_type": "code",
   "execution_count": 7,
   "metadata": {},
   "outputs": [
    {
     "data": {
      "text/plain": [
       "\n",
       " Object: Wing\n",
       "x_percentage \t 0.5\n",
       "sweep \t 30 degree\n",
       "taperRatio \t 0.3\n",
       "area \t 41 meter ** 2\n",
       "aspectRatio \t 8\n",
       "dihedral \t 3 degree"
      ]
     },
     "execution_count": 7,
     "metadata": {},
     "output_type": "execute_result"
    }
   ],
   "source": [
    "wing"
   ]
  },
  {
   "cell_type": "code",
   "execution_count": 8,
   "metadata": {},
   "outputs": [],
   "source": [
    "wing.tip_twist = 3*u.deg"
   ]
  },
  {
   "cell_type": "code",
   "execution_count": 9,
   "metadata": {},
   "outputs": [
    {
     "data": {
      "text/plain": [
       "\n",
       " Object: Wing\n",
       "x_percentage \t 0.5\n",
       "sweep \t 30 degree\n",
       "taperRatio \t 0.3\n",
       "area \t 41 meter ** 2\n",
       "aspectRatio \t 8\n",
       "dihedral \t 3 degree\n",
       "tip_twist \t 3 degree"
      ]
     },
     "execution_count": 9,
     "metadata": {},
     "output_type": "execute_result"
    }
   ],
   "source": [
    "wing"
   ]
  },
  {
   "cell_type": "code",
   "execution_count": 10,
   "metadata": {},
   "outputs": [
    {
     "ename": "NameError",
     "evalue": "name 'engines' is not defined",
     "output_type": "error",
     "traceback": [
      "\u001b[0;31m---------------------------------------------------------------------------\u001b[0m",
      "\u001b[0;31mNameError\u001b[0m                                 Traceback (most recent call last)",
      "\u001b[0;32m<ipython-input-10-6bd8df42239e>\u001b[0m in \u001b[0;36m<module>\u001b[0;34m\u001b[0m\n\u001b[0;32m----> 1\u001b[0;31m \u001b[0mAircraft\u001b[0m\u001b[0;34m(\u001b[0m\u001b[0mfuselage\u001b[0m\u001b[0;34m,\u001b[0m \u001b[0mwing\u001b[0m\u001b[0;34m,\u001b[0m \u001b[0mengines\u001b[0m\u001b[0;34m,\u001b[0m \u001b[0mhorzStab\u001b[0m\u001b[0;34m,\u001b[0m \u001b[0mvertStab\u001b[0m\u001b[0;34m)\u001b[0m\u001b[0;34m\u001b[0m\u001b[0;34m\u001b[0m\u001b[0m\n\u001b[0m",
      "\u001b[0;31mNameError\u001b[0m: name 'engines' is not defined"
     ]
    }
   ],
   "source": [
    "Aircraft(fuselage, wing, engines, horzStab, vertStab)"
   ]
  },
  {
   "cell_type": "code",
   "execution_count": null,
   "metadata": {},
   "outputs": [],
   "source": [
    "models"
   ]
  },
  {
   "cell_type": "code",
   "execution_count": null,
   "metadata": {},
   "outputs": [],
   "source": [
    "models.Engine()"
   ]
  },
  {
   "cell_type": "code",
   "execution_count": null,
   "metadata": {},
   "outputs": [],
   "source": []
  }
 ],
 "metadata": {
  "kernelspec": {
   "display_name": "Python 3",
   "language": "python",
   "name": "python3"
  },
  "language_info": {
   "codemirror_mode": {
    "name": "ipython",
    "version": 3
   },
   "file_extension": ".py",
   "mimetype": "text/x-python",
   "name": "python",
   "nbconvert_exporter": "python",
   "pygments_lexer": "ipython3",
   "version": "3.6.7"
  }
 },
 "nbformat": 4,
 "nbformat_minor": 2
}
