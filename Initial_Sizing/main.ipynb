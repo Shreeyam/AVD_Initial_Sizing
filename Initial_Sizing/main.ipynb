{
 "cells": [
  {
   "cell_type": "code",
   "execution_count": 1,
   "metadata": {},
   "outputs": [],
   "source": [
    "\"\"\"Modular aircraft concept\"\"\"\n",
    "import pickle\n",
    "import numpy as np\n",
    "from gpkit import Model, Variable, Vectorize\n",
    "from gpkit.constraints.tight import Tight\n",
    "from gpkit.constraints.loose import Loose\n",
    "\n",
    "from gpkit import ureg as u\n",
    "\n",
    "from aircraft import *\n",
    "\n",
    "from prettytable import PrettyTable"
   ]
  },
  {
   "cell_type": "code",
   "execution_count": 2,
   "metadata": {},
   "outputs": [],
   "source": [
    "class SimpleAircraft(Model):\n",
    "    \n",
    "    def setup(self):\n",
    "        \n",
    "        constraints = []\n",
    "        components  = []\n",
    "        \n",
    "        W_0       = self.W_0       = Variable('W_0', \"N\", \"Weight (force) of aircraft\")\n",
    "        W_payload = self.W_payload = Variable('W_{payload}', \"N\", \"Weight (force) of payload + crew\")\n",
    "        W_empty   = self.W_empty   = Variable('W_{empty}', \"N\", \"Weight (force) of empty aircraft\")\n",
    "        W_fuel    = self.W_fuel    = Variable('W_{fuel}', \"N\", \"Weight (force) of fuel\")\n",
    "        W_dry     = self.W_dry     = Variable('W_{dry}', \"N\", \"Weight (force) of dry aircraft (payload + empty)\")\n",
    "        \n",
    "        M_0       = self.M_0       = Variable('M_0', \"kg\", \"Mass of aircraft\")\n",
    "        M_payload = self.M_payload = Variable('M_{payload}', \"kg\", \"Mass of payload + crew\")\n",
    "        M_empty   = self.M_empty   = Variable('M_{empty}', \"kg\", \"Mass of empty aircraft\")\n",
    "        M_fuel    = self.M_fuel    = Variable(\"M_{fuel}\", \"kg\", \"Mass of fuel\")\n",
    "        M_dry     = self.M_dry     = Variable(\"M_{dry}\", \"kg\", \"Mass of dry aircraft (payload + empty)\")\n",
    "        \n",
    "        g_0 = self.g_0 = Variable(\"g_0\", 9.81, \"m/s^2\", \"Acceleration due to gravity\")\n",
    "\n",
    "        constraints += [Tight([W_0 >= W_dry + W_fuel])]\n",
    "        constraints += [Tight([W_dry >= W_payload + W_empty])]\n",
    "        \n",
    "        constraints += [Tight([W_0 == M_0*g_0])]\n",
    "        constraints += [Tight([W_dry == M_dry*g_0])]\n",
    "        constraints += [Tight([W_fuel == M_fuel*g_0])]\n",
    "        constraints += [Tight([W_payload == M_payload*g_0])]\n",
    "        constraints += [Tight([W_empty == M_empty*g_0])]\n",
    "        \n",
    "        #payload mass estimate\n",
    "        N_crew = self.N_crew = Variable(\"N_{crew}\", 4., \"\", \"number of crew\")\n",
    "        N_passengers = self.N_passengers = Variable(\"N_{passengers}\", 50., \"\", \"number of passengers\")\n",
    "        M_per_person = Variable(\"M_{per passenger}\", 100., \"kg\", \"mass per passenger\") # todo: get real number, currently arbitrary\n",
    "        \n",
    "        constraints += [M_payload >= M_per_person*(N_crew + N_passengers)] # todo: refine this mass estimate\n",
    "        constraints += [M_payload >= 9500*u.kg] # todo: refine this mass estimate\n",
    "        #todo this 9500 comes from CRJ500 -> using 54*100 is far smaller!!\n",
    "\n",
    "        \n",
    "        # empty weight fraction\n",
    "        fit_A =  0.97 #Using Table 3.1 of Raymer, Jet transport\n",
    "        fit_C = -0.06 #Using Table 3.1 of Raymer, Jet transport\n",
    "        fit_K_vs = 1.00 # assumes fixed sweep\n",
    "        constraints += [Tight([M_empty/M_0 >= fit_A*(M_0/(1.*u.kg))**fit_C*fit_K_vs])]\n",
    "        \n",
    "        \n",
    "        \n",
    "        # range equation\n",
    "        R_total = self.R_total = Variable(\"R_{total}\", 3500., \"km\", \"Total range of aircraft\")\n",
    "        V_cruise = self.V_cruise = Variable(\"V_{cruise}\", \"m/s\", \"Cruise speed of aircraft\")\n",
    "        Ma_cruise = self.Ma_cruise = Variable(\"Ma_{cruise}\", 0.75, \"\", \"Cruise mach number\")\n",
    "        h_cruise  = self.h_cruise = Variable(\"h_{cruise}\", 35000., \"ft\", \"Cruise altitude\")\n",
    "        a_cruise = Variable(\"a_{cruise}\", 295.2, \"m/s\", \"Speed of sound at 36,089 ft\") #https://www.engineeringtoolbox.com/elevation-speed-sound-air-d_1534.html\n",
    "        \n",
    "        LD_max = Variable(\"LD_{max}\", \"\", \"L/D max\") #todo: eyeballed from Raymer Fig 3.5. Need to incorporate better approx\n",
    "        \n",
    "        S_wet_S_ref = Variable(\"S_{wet}/S_{ref}\", 6., \"\", \"S wet to S ref ratio\") # eyeballed from Raymer Fig. 3.6\n",
    "        AR = Variable(\"AR\", 8., \"\", \"Aspect ratio, main\") #todo: arbitrary\n",
    "        \n",
    "        K_LD = Variable(\"K_LD\", 15.5, \"\", \"Coefficient for estimating max lift to drag\")\n",
    "        constraints += [Tight([LD_max <= K_LD*(AR/(S_wet_S_ref))])]\n",
    "        \n",
    "        SFC_cruise = self.SFC_cruise = Variable(\"SFC_{cruise}\", 19.8, \"mg/N/s\", \"Specific Fuel Consumption, Cruise\") #Table 3.3 of Raymer, for Low bypass Turbofan\n",
    "        \n",
    "        z = Variable(\"z\", \"\", \"Dummy variable for range eqn\")\n",
    "        constraints += [z >= R_total*SFC_cruise*g_0/(V_cruise*LD_max)]\n",
    "        constraints += [W_fuel/(W_dry) >= z + z**2/2 + z**3/6 + z**4/24]\n",
    "        \n",
    "        \n",
    "        constraints += [Tight([V_cruise <= Ma_cruise*a_cruise])]\n",
    "        \n",
    "        \n",
    "        return constraints, components\n",
    "            \n",
    "        \n",
    "        "
   ]
  },
  {
   "cell_type": "code",
   "execution_count": 3,
   "metadata": {},
   "outputs": [
    {
     "data": {
      "text/latex": [
       "$$\\begin{array}{ll} \\text{}\n",
       "\\text{minimize}\n",
       "    & {W_0}_{SimpleAircraft} \\\\\n",
       "\\text{subject to}\n",
       "    & {W_0}_{SimpleAircraft} \\geq {W_{dry}}_{SimpleAircraft} + {W_{fuel}}_{SimpleAircraft} \\\\\n",
       "    & {W_{dry}}_{SimpleAircraft} \\geq {W_{empty}}_{SimpleAircraft} + {W_{payload}}_{SimpleAircraft} \\\\\n",
       "    & {W_0}_{SimpleAircraft} = {M_0}_{SimpleAircraft} {g_0}_{SimpleAircraft} \\\\\n",
       "    & {W_{dry}}_{SimpleAircraft} = {M_{dry}}_{SimpleAircraft} {g_0}_{SimpleAircraft} \\\\\n",
       "    & {W_{fuel}}_{SimpleAircraft} = {M_{fuel}}_{SimpleAircraft} {g_0}_{SimpleAircraft} \\\\\n",
       "    & {W_{payload}}_{SimpleAircraft} = {M_{payload}}_{SimpleAircraft} {g_0}_{SimpleAircraft} \\\\\n",
       "    & {W_{empty}}_{SimpleAircraft} = {M_{empty}}_{SimpleAircraft} {g_0}_{SimpleAircraft} \\\\\n",
       "    & {M_{payload}}_{SimpleAircraft} \\geq {M_{per passenger}}_{SimpleAircraft} {N_{crew}}_{SimpleAircraft} + {M_{per passenger}}_{SimpleAircraft} {N_{passengers}}_{SimpleAircraft} \\\\\n",
       "    & {M_{payload}}_{SimpleAircraft} \\geq 9500 \\\\\n",
       "    & \\frac{{M_{empty}}_{SimpleAircraft}}{{M_0}_{SimpleAircraft}} \\geq \\frac{0.97}{{M_0}_{SimpleAircraft}^{0.06}} \\\\\n",
       "    & {LD_{max}}_{SimpleAircraft} \\leq \\frac{{AR}_{SimpleAircraft} {K_LD}_{SimpleAircraft}}{{S_{wet}/S_{ref}}_{SimpleAircraft}} \\\\\n",
       "    & {z}_{SimpleAircraft} \\geq 0.001\\frac{{R_{total}}_{SimpleAircraft} {SFC_{cruise}}_{SimpleAircraft} {g_0}_{SimpleAircraft}}{{LD_{max}}_{SimpleAircraft} {V_{cruise}}_{SimpleAircraft}} \\\\\n",
       "    & \\frac{{W_{fuel}}_{SimpleAircraft}}{{W_{dry}}_{SimpleAircraft}} \\geq 0.04167{z}_{SimpleAircraft}^{4} + 0.1667{z}_{SimpleAircraft}^{3} + 0.5{z}_{SimpleAircraft}^{2} + {z}_{SimpleAircraft} \\\\\n",
       "    & {V_{cruise}}_{SimpleAircraft} \\leq {Ma_{cruise}}_{SimpleAircraft} {a_{cruise}}_{SimpleAircraft} \\\\\n",
       "    &  \\\\\n",
       "\\end{array}$$"
      ],
      "text/plain": [
       "<gpkit.Model object containing 1 top-level constraint(s) and 25 variable(s)>"
      ]
     },
     "execution_count": 3,
     "metadata": {},
     "output_type": "execute_result"
    }
   ],
   "source": [
    "#create the simple aircraft\n",
    "AC = SimpleAircraft()\n",
    "\n",
    "# define the optimizer to the AC.W_0, and set constraints to be the AC\n",
    "M = Model(AC.W_0, AC)\n",
    "\n",
    "#print latex version of the constraints\n",
    "M"
   ]
  },
  {
   "cell_type": "code",
   "execution_count": 4,
   "metadata": {},
   "outputs": [
    {
     "name": "stdout",
     "output_type": "stream",
     "text": [
      "Using solver 'cvxopt'\n",
      "Solving for 13 variables.\n",
      "Solving took 0.0254 seconds.\n"
     ]
    }
   ],
   "source": [
    "# run a solve\n",
    "sol = M.solve()"
   ]
  },
  {
   "cell_type": "code",
   "execution_count": 5,
   "metadata": {},
   "outputs": [],
   "source": [
    "# print(sol.summary()) \n",
    "#the summary which usually works well is a bit buggy here. Ive raised an appropriate github issue, and hopefully they will push a new version of gpkit that fixes it. \n",
    "#In the mean time ive written a rough version of it"
   ]
  },
  {
   "cell_type": "code",
   "execution_count": 7,
   "metadata": {
    "scrolled": false
   },
   "outputs": [
    {
     "name": "stdout",
     "output_type": "stream",
     "text": [
      "+------+----------------------------------+------------+--------+--------------------------------------------------+\n",
      "| Type |               Var                |    Val     |  Unit  |                   Description                    |\n",
      "+------+----------------------------------+------------+--------+--------------------------------------------------+\n",
      "| Free |        SimpleAircraft.W_0        |  276236.83 |   N    |            Weight (force) of aircraft            |\n",
      "| Free |      SimpleAircraft.W_{dry}      |  238097.73 |   N    | Weight (force) of dry aircraft (payload + empty) |\n",
      "| Free |     SimpleAircraft.W_{fuel}      |   38139.10 |   N    |              Weight (force) of fuel              |\n",
      "| Free |    SimpleAircraft.W_{payload}    |   93195.00 |   N    |         Weight (force) of payload + crew         |\n",
      "| Free |     SimpleAircraft.W_{empty}     |  144902.73 |   N    |         Weight (force) of empty aircraft         |\n",
      "| Free |        SimpleAircraft.M_0        |   28158.70 |   kg   |                 Mass of aircraft                 |\n",
      "| Free |      SimpleAircraft.M_{dry}      |   24270.92 |   kg   |      Mass of dry aircraft (payload + empty)      |\n",
      "| Free |     SimpleAircraft.M_{fuel}      |    3887.78 |   kg   |                   Mass of fuel                   |\n",
      "| Free |    SimpleAircraft.M_{payload}    |    9500.00 |   kg   |              Mass of payload + crew              |\n",
      "| Free |     SimpleAircraft.M_{empty}     |   14770.92 |   kg   |              Mass of empty aircraft              |\n",
      "| Free |     SimpleAircraft.LD_{max}      |      20.67 |        |                     L/D max                      |\n",
      "| Free |    SimpleAircraft.V_{cruise}     |     221.40 |  m/s   |             Cruise speed of aircraft             |\n",
      "| Free |         SimpleAircraft.z         |       0.15 |        |           Dummy variable for range eqn           |\n",
      "| Fix  | SimpleAircraft.M_{per passenger} |     100.00 |   kg   |                mass per passenger                |\n",
      "| Fix  |    SimpleAircraft.h_{cruise}     |   35000.00 |   ft   |                 Cruise altitude                  |\n",
      "| Fix  |  SimpleAircraft.N_{passengers}   |      50.00 |        |               number of passengers               |\n",
      "| Fix  |     SimpleAircraft.N_{crew}      |       4.00 |        |                  number of crew                  |\n",
      "| Fix  |    SimpleAircraft.Ma_{cruise}    |       0.75 |        |                Cruise mach number                |\n",
      "| Fix  |        SimpleAircraft.g_0        |       9.81 | m/s**2 |           Acceleration due to gravity            |\n",
      "| Fix  |        SimpleAircraft.AR         |       8.00 |        |                Aspect ratio, main                |\n",
      "| Fix  |  SimpleAircraft.S_{wet}/S_{ref}  |       6.00 |        |               S wet to S ref ratio               |\n",
      "| Fix  |     SimpleAircraft.R_{total}     |    3500.00 |   km   |             Total range of aircraft              |\n",
      "| Fix  |    SimpleAircraft.a_{cruise}     |     295.20 |  m/s   |           Speed of sound at 36,089 ft            |\n",
      "| Fix  |   SimpleAircraft.SFC_{cruise}    |      19.80 | mg/N/s |        Specific Fuel Consumption, Cruise         |\n",
      "| Fix  |       SimpleAircraft.K_LD        |      15.50 |        |   Coefficient for estimating max lift to drag    |\n",
      "+------+----------------------------------+------------+--------+--------------------------------------------------+\n"
     ]
    }
   ],
   "source": [
    "x = PrettyTable()\n",
    "\n",
    "x.field_names = ['Type', 'Var', 'Val', 'Unit', \"Description\"]\n",
    "\n",
    "for k, v in sol['freevariables'].items():\n",
    "    \n",
    "    x.add_row(['Free', k, v, k.unitstr(), k.descr['label']])\n",
    "\n",
    "    \n",
    "for k, v in sol['constants'].items():\n",
    "    \n",
    "    x.add_row(['Fix', k, v, k.unitstr(), k.descr['label']])\n",
    "\n",
    "x.float_format = '10.2'\n",
    "\n",
    "print(x)"
   ]
  },
  {
   "cell_type": "code",
   "execution_count": 8,
   "metadata": {
    "scrolled": false
   },
   "outputs": [
    {
     "data": {
      "text/plain": [
       "{'freevariables': {SimpleAircraft.W_0: 276236.825556848,\n",
       "  SimpleAircraft.W_{dry}: 238097.72552147877,\n",
       "  SimpleAircraft.W_{fuel}: 38139.10113851071,\n",
       "  SimpleAircraft.W_{payload}: 93194.99994131118,\n",
       "  SimpleAircraft.W_{empty}: 144902.72565867522,\n",
       "  SimpleAircraft.M_0: 28158.69781601822,\n",
       "  SimpleAircraft.M_{dry}: 24270.920035505787,\n",
       "  SimpleAircraft.M_{fuel}: 3887.777894272059,\n",
       "  SimpleAircraft.M_{payload}: 9499.999995384558,\n",
       "  SimpleAircraft.M_{empty}: 14770.920049107135,\n",
       "  SimpleAircraft.LD_{max}: 20.66666645323235,\n",
       "  SimpleAircraft.V_{cruise}: 221.39999768758548,\n",
       "  SimpleAircraft.z: 0.14857789597473206},\n",
       " 'cost': 276236.825556848 <Unit('newton')>,\n",
       " 'constants': {SimpleAircraft.M_{per passenger}: 100.0,\n",
       "  SimpleAircraft.h_{cruise}: 35000.0,\n",
       "  SimpleAircraft.N_{passengers}: 50.0,\n",
       "  SimpleAircraft.N_{crew}: 4.0,\n",
       "  SimpleAircraft.Ma_{cruise}: 0.75,\n",
       "  SimpleAircraft.g_0: 9.81,\n",
       "  SimpleAircraft.AR: 8.0,\n",
       "  SimpleAircraft.S_{wet}/S_{ref}: 6.0,\n",
       "  SimpleAircraft.R_{total}: 3500.0,\n",
       "  SimpleAircraft.a_{cruise}: 295.2,\n",
       "  SimpleAircraft.SFC_{cruise}: 19.8,\n",
       "  SimpleAircraft.K_LD: 15.5},\n",
       " 'variables': {SimpleAircraft.W_0: 276236.825556848,\n",
       "  SimpleAircraft.W_{dry}: 238097.72552147877,\n",
       "  SimpleAircraft.W_{fuel}: 38139.10113851071,\n",
       "  SimpleAircraft.W_{payload}: 93194.99994131118,\n",
       "  SimpleAircraft.W_{empty}: 144902.72565867522,\n",
       "  SimpleAircraft.M_0: 28158.69781601822,\n",
       "  SimpleAircraft.M_{dry}: 24270.920035505787,\n",
       "  SimpleAircraft.M_{fuel}: 3887.777894272059,\n",
       "  SimpleAircraft.M_{payload}: 9499.999995384558,\n",
       "  SimpleAircraft.M_{empty}: 14770.920049107135,\n",
       "  SimpleAircraft.LD_{max}: 20.66666645323235,\n",
       "  SimpleAircraft.V_{cruise}: 221.39999768758548,\n",
       "  SimpleAircraft.z: 0.14857789597473206,\n",
       "  SimpleAircraft.M_{per passenger}: 100.0,\n",
       "  SimpleAircraft.h_{cruise}: 35000.0,\n",
       "  SimpleAircraft.N_{passengers}: 50.0,\n",
       "  SimpleAircraft.N_{crew}: 4.0,\n",
       "  SimpleAircraft.Ma_{cruise}: 0.75,\n",
       "  SimpleAircraft.g_0: 9.81,\n",
       "  SimpleAircraft.AR: 8.0,\n",
       "  SimpleAircraft.S_{wet}/S_{ref}: 6.0,\n",
       "  SimpleAircraft.R_{total}: 3500.0,\n",
       "  SimpleAircraft.a_{cruise}: 295.2,\n",
       "  SimpleAircraft.SFC_{cruise}: 19.8,\n",
       "  SimpleAircraft.K_LD: 15.5},\n",
       " 'sensitivities': {'nu': array([1.00000000e+00, 2.01419225e+00, 3.22638453e-01, 9.14670380e-01,\n",
       "         1.42216032e+00, 2.16819865e+00, 8.31367944e-01, 1.09635521e+00,\n",
       "         1.09635521e+00, 1.09635521e+00, 1.09635521e+00, 7.55252924e-01,\n",
       "         1.66992330e+00, 8.24443854e-01, 2.24660418e+00, 4.05940462e-10,\n",
       "         9.14670380e-01, 1.42216032e+00, 3.47195310e-01, 3.47195310e-01,\n",
       "         2.99264446e-01, 2.22320409e-02, 1.10106328e-03, 4.08984165e-05,\n",
       "         3.47195310e-01]),\n",
       "  'la': array([1.00000000e+00, 2.33683070e+00, 2.33683070e+00, 2.16819865e+00,\n",
       "         8.31367944e-01, 1.09635521e+00, 1.09635521e+00, 1.09635521e+00,\n",
       "         1.09635521e+00, 7.55252924e-01, 1.66992330e+00, 8.24443854e-01,\n",
       "         2.24660418e+00, 4.05940462e-10, 9.14670380e-01, 1.42216032e+00,\n",
       "         3.47195310e-01, 3.47195310e-01, 3.22638448e-01, 3.47195310e-01]),\n",
       "  'cost': {SimpleAircraft.W_0: 1.0},\n",
       "  'variables': {SimpleAircraft.W_0: 0.0,\n",
       "   SimpleAircraft.W_{fuel}: 4.808479669993204e-09,\n",
       "   SimpleAircraft.W_{dry}: -4.808479059370541e-09,\n",
       "   SimpleAircraft.W_{empty}: 6.392695262036341e-10,\n",
       "   SimpleAircraft.W_{payload}: -5.899151167554351e-10,\n",
       "   SimpleAircraft.g_0: 1.3471953096398674,\n",
       "   SimpleAircraft.M_0: 4.639355566382619e-11,\n",
       "   SimpleAircraft.M_{dry}: 0.0,\n",
       "   SimpleAircraft.M_{fuel}: -2.220446049250313e-16,\n",
       "   SimpleAircraft.M_{payload}: -9.871015116402759e-11,\n",
       "   SimpleAircraft.M_{empty}: -4.935518660431626e-11,\n",
       "   SimpleAircraft.N_{crew}: 3.006966381978331e-11,\n",
       "   SimpleAircraft.M_{per passenger}: 4.059404615670747e-10,\n",
       "   SimpleAircraft.N_{passengers}: 3.758707977472914e-10,\n",
       "   SimpleAircraft.S_{wet}/S_{ref}: 0.3471953096892225,\n",
       "   SimpleAircraft.K_LD: -0.3471953096892225,\n",
       "   SimpleAircraft.LD_{max}: 0.0,\n",
       "   SimpleAircraft.AR: -0.3471953096892225,\n",
       "   SimpleAircraft.R_{total}: 0.3471953096892225,\n",
       "   SimpleAircraft.SFC_{cruise}: 0.3471953096892225,\n",
       "   SimpleAircraft.V_{cruise}: -5.551115123125783e-17,\n",
       "   SimpleAircraft.z: 1.4862761577028039e-09,\n",
       "   SimpleAircraft.Ma_{cruise}: -0.34719530968922246,\n",
       "   SimpleAircraft.a_{cruise}: -0.34719530968922246},\n",
       "  'constants': {SimpleAircraft.g_0: 1.3471953096398674,\n",
       "   SimpleAircraft.N_{crew}: 3.006966381978331e-11,\n",
       "   SimpleAircraft.M_{per passenger}: 4.059404615670747e-10,\n",
       "   SimpleAircraft.N_{passengers}: 3.758707977472914e-10,\n",
       "   SimpleAircraft.S_{wet}/S_{ref}: 0.3471953096892225,\n",
       "   SimpleAircraft.K_LD: -0.3471953096892225,\n",
       "   SimpleAircraft.AR: -0.3471953096892225,\n",
       "   SimpleAircraft.R_{total}: 0.3471953096892225,\n",
       "   SimpleAircraft.SFC_{cruise}: 0.3471953096892225,\n",
       "   SimpleAircraft.Ma_{cruise}: -0.34719530968922246,\n",
       "   SimpleAircraft.a_{cruise}: -0.34719530968922246}},\n",
       " 'soltime': 0.025356054306030273}"
      ]
     },
     "execution_count": 8,
     "metadata": {},
     "output_type": "execute_result"
    }
   ],
   "source": [
    "#full solution dictionary\n",
    "sol"
   ]
  },
  {
   "cell_type": "code",
   "execution_count": 14,
   "metadata": {},
   "outputs": [],
   "source": [
    "# this is for the more complicated airplane, so ignore it.\n",
    "\n",
    "#AC = Aircraft()\n",
    "#MISSION = Mission(AC)\n",
    "#M = Model(MISSION.takeoff_fuel, [MISSION, AC])"
   ]
  },
  {
   "cell_type": "code",
   "execution_count": 15,
   "metadata": {},
   "outputs": [],
   "source": [
    "#AC"
   ]
  },
  {
   "cell_type": "code",
   "execution_count": 16,
   "metadata": {},
   "outputs": [],
   "source": [
    "#print(M)"
   ]
  },
  {
   "cell_type": "code",
   "execution_count": 17,
   "metadata": {},
   "outputs": [],
   "source": [
    "#sol = M.solve(verbosity=0)\n",
    "#print(sol.summary())"
   ]
  },
  {
   "cell_type": "code",
   "execution_count": null,
   "metadata": {},
   "outputs": [],
   "source": []
  }
 ],
 "metadata": {
  "kernelspec": {
   "display_name": "AVD_Sizing_3",
   "language": "python",
   "name": "avd_sizing_3"
  },
  "language_info": {
   "codemirror_mode": {
    "name": "ipython",
    "version": 3
   },
   "file_extension": ".py",
   "mimetype": "text/x-python",
   "name": "python",
   "nbconvert_exporter": "python",
   "pygments_lexer": "ipython3",
   "version": "3.6.7"
  }
 },
 "nbformat": 4,
 "nbformat_minor": 2
}
